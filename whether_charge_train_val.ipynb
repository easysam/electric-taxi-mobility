{
 "cells": [
  {
   "cell_type": "code",
   "execution_count": 1,
   "metadata": {},
   "outputs": [
    {
     "name": "stderr",
     "output_type": "stream",
     "text": [
      "C:\\Users\\hkrep\\anaconda3\\envs\\et\\lib\\site-packages\\tqdm\\std.py:668: FutureWarning: The Panel class is removed from pandas. Accessing it from the top-level namespace will also be removed in the next version\n",
      "  from pandas import Panel\n"
     ]
    }
   ],
   "source": [
    "import statistics\n",
    "import datetime\n",
    "import pickle\n",
    "\n",
    "import utils.data_loader as data_loader\n",
    "import utils.display as display\n",
    "import pandas as pd\n",
    "import numpy as np\n",
    "from sklearn import preprocessing, metrics\n",
    "import xgboost as xgb\n",
    "from tqdm import tqdm\n",
    "\n",
    "display.configure_pandas()\n",
    "display.configure_logging()\n",
    "tqdm.pandas()"
   ]
  },
  {
   "cell_type": "code",
   "execution_count": 2,
   "metadata": {},
   "outputs": [
    {
     "name": "stderr",
     "output_type": "stream",
     "text": [
      "22-Jul-20 12:48:48 - Loading data/od/full_od_with_hotpots_v4.csv\n",
      "22-Jul-20 12:48:48 - Loading data/od/od_with_traveled_v5.csv\n"
     ]
    }
   ],
   "source": [
    "od = data_loader.load_od(with_hotpots=True, version='v4')\n",
    "\n",
    "cols = ['Licence', 'begin_time', 'end_time', 'traveled_after_charged', 'to_charge', 'seeking_duration', \n",
    "        'min_dis', 'mid_dis', 'mean_dis', 'max_dis']\n",
    "df_od = data_loader.load_od(scale='full',with_feature=True)[cols]"
   ]
  },
  {
   "cell_type": "code",
   "execution_count": 3,
   "metadata": {
    "scrolled": true
   },
   "outputs": [],
   "source": [
    "df_od.dropna(axis=0, subset=['traveled_after_charged'], inplace=True)\n",
    "df_od.reset_index(drop=True, inplace=True)\n",
    "df_od['grp'] = ((False == df_od['to_charge'])\n",
    "                & ((True == df_od['to_charge'].shift()) | df_od['to_charge'].shift().isna())).cumsum()\n",
    "# df_od.loc[df_od['to_charge'], 'traveled_after_charged'].plot.kde(ind=range(0, 300, 20))\n",
    "# (df_od.loc[df_od['to_charge'], 'seeking_duration'] / np.timedelta64(1, 'm')).plot.kde(ind=range(0, 90))"
   ]
  },
  {
   "cell_type": "code",
   "execution_count": 4,
   "metadata": {
    "scrolled": true
   },
   "outputs": [
    {
     "name": "stderr",
     "output_type": "stream",
     "text": [
      "100%|██████████| 26603/26603 [00:22<00:00, 1163.63it/s]\n"
     ]
    }
   ],
   "source": [
    "def process_grp(od):\n",
    "    if od.at[od.index[-1], 'traveled_after_charged'] > 160:\n",
    "        od['grp'] = 0\n",
    "    if od.at[od.index[-1], 'traveled_after_charged'] < 80:\n",
    "        od['grp'] = 0\n",
    "    if od.at[od.index[-1], 'seeking_duration'] > np.timedelta64(60, 'm'):\n",
    "        od['grp'] = 0\n",
    "    return od\n",
    "\n",
    "df_od = df_od.groupby('grp').progress_apply(process_grp)\n",
    "df_od = df_od.loc[0 != df_od['grp']]\n",
    "df_od.reset_index(drop=True, inplace=True)\n",
    "df_od['to_charge'] = df_od['to_charge'].astype(int)\n",
    "df_od['time_of_day'] = df_od['end_time'].dt.hour + df_od['end_time'].dt.minute / 60\n",
    "data = df_od"
   ]
  },
  {
   "cell_type": "code",
   "execution_count": 6,
   "metadata": {},
   "outputs": [],
   "source": [
    "scaler = preprocessing.StandardScaler()\n",
    "\n",
    "tranformed_data = scaler.fit_transform(df_od[['traveled_after_charged', 'min_dis', 'mid_dis', 'mean_dis', 'max_dis',\n",
    "                                              'time_of_day']])\n",
    "\n",
    "tranformed_data = pd.DataFrame(tranformed_data, columns=['traveled_after_charged', 'min_dis', 'mid_dis', 'mean_dis',\n",
    "                                                         'max_dis', 'time_of_day'])\n",
    "tranformed_data['begin_time'] = df_od['begin_time']\n",
    "tranformed_data['Licence'] = df_od['Licence']\n",
    "tranformed_data['to_charge'] = df_od['to_charge']\n",
    "\n",
    "data = tranformed_data"
   ]
  },
  {
   "cell_type": "code",
   "execution_count": 7,
   "metadata": {
    "scrolled": false
   },
   "outputs": [
    {
     "name": "stdout",
     "output_type": "stream",
     "text": [
      "recall: 0.80, precision: 0.41, accuray: 0.84\n"
     ]
    }
   ],
   "source": [
    "def func(od):\n",
    "    feature_columns_to_use = ['time_of_day', 'min_dis', 'max_dis', 'mean_dis', 'mid_dis', 'traveled_after_charged']\n",
    "    msk = np.random.rand(len(od)) < 0.8\n",
    "    train_set = od[msk]\n",
    "    test_set = od[~msk]\n",
    "\n",
    "    train_X = train_set[feature_columns_to_use].to_numpy()\n",
    "    train_y = train_set['to_charge']\n",
    "    test_X = test_set[feature_columns_to_use].to_numpy()\n",
    "    test_y = test_set['to_charge']\n",
    "    \n",
    "    gbm = xgb.XGBClassifier(verbosity=1, max_depth=10, learning_rate=0.05, n_estimators=500, scale_pos_weight=6.7)\n",
    "    gbm.fit(train_X, train_y)\n",
    "    predict_y = gbm.predict(test_X)\n",
    "\n",
    "    recall = metrics.recall_score(test_y, predict_y)\n",
    "    precision = metrics.precision_score(test_y, predict_y)\n",
    "    accuracy = metrics.accuracy_score(test_y, predict_y)\n",
    "    \n",
    "    print(\"recall: %.2f, precision: %.2f, accuray: %.2f\" % (recall, precision, accuracy))\n",
    "    return test_y, predict_y, gbm\n",
    "\n",
    "test_y, predict_y, gbm = func(data)"
   ]
  },
  {
   "cell_type": "code",
   "execution_count": 10,
   "metadata": {
    "pycharm": {
     "name": "#%%\n"
    }
   },
   "outputs": [],
   "source": [
    "# save whether charge prediction model\n",
    "with open('charging_behavior\\whether_to_charge\\model_80train.pickle', 'wb') as f:\n",
    "    pickle.dump(gbm, f)\n",
    "\n",
    "# save StandardScaler model\n",
    "with open('charging_behavior\\whether_to_charge\\StandardScaler.pickle', 'wb') as f:\n",
    "    pickle.dump(scaler, f)"
   ]
  }
 ],
 "metadata": {
  "kernelspec": {
   "name": "et",
   "language": "python",
   "display_name": "Python (et)"
  },
  "language_info": {
   "codemirror_mode": {
    "name": "ipython",
    "version": 3
   },
   "file_extension": ".py",
   "mimetype": "text/x-python",
   "name": "python",
   "nbconvert_exporter": "python",
   "pygments_lexer": "ipython3",
   "version": "3.7.5"
  }
 },
 "nbformat": 4,
 "nbformat_minor": 2
}