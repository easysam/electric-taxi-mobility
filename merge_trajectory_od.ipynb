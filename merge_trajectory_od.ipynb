{
 "cells": [
  {
   "cell_type": "code",
   "execution_count": 6,
   "metadata": {},
   "outputs": [],
   "source": [
    "# 恭喜，这是最新的merge文件\n",
    "import os\n",
    "import numpy as np\n",
    "import pandas as pd\n",
    "import utils.data_loader as data_loader\n",
    "import utils.display as display\n",
    "from tqdm.notebook import tqdm"
   ]
  },
  {
   "cell_type": "code",
   "execution_count": 7,
   "metadata": {},
   "outputs": [
    {
     "name": "stderr",
     "output_type": "stream",
     "text": [
      "C:\\Users\\hkrep\\anaconda3\\envs\\et\\lib\\site-packages\\tqdm\\std.py:668: FutureWarning: The Panel class is removed from pandas. Accessing it from the top-level namespace will also be removed in the next version\n",
      "  from pandas import Panel\n"
     ]
    }
   ],
   "source": [
    "display.configure_logging()\n",
    "display.configure_pandas()\n",
    "tqdm.pandas()"
   ]
  },
  {
   "cell_type": "code",
   "execution_count": 8,
   "metadata": {},
   "outputs": [],
   "source": [
    "def set_status_index(pairs, df_trajectory=None):\n",
    "    begin = df_trajectory['plate'].searchsorted(pairs['license'])\n",
    "    end = df_trajectory['plate'].searchsorted(pairs['license'], side='right')\n",
    "    temp = df_trajectory.iloc[begin:end]\n",
    "    x = temp['timestamp'].searchsorted(pairs['begin_time'])\n",
    "    y = temp['timestamp'].searchsorted(pairs['end_time'], side='right')\n",
    "    return pd.Series({'start': begin + x, 'end': begin + y})\n",
    "\n",
    "\n",
    "def set_status(row, status, new_seg, status_value=1):\n",
    "    if row['start'] == row['end']:\n",
    "        new_seg[row['end']] = 1\n",
    "        return\n",
    "    status[row['start']: row['end']] = [status_value for i in range(row['start'], row['end'])]\n",
    "    new_seg[row['end']] = 1\n",
    "    return"
   ]
  },
  {
   "cell_type": "code",
   "execution_count": 9,
   "outputs": [
    {
     "name": "stderr",
     "output_type": "stream",
     "text": [
      "24-Jul-20 11:48:33 - Loading data/ce/v5_30min.csv\n",
      "24-Jul-20 11:48:34 - Loading data/history_trajectories.csv\n",
      "24-Jul-20 11:49:09 - Loading data/transaction_common_201407.csv\n"
     ]
    }
   ],
   "source": [
    "# Load CE default load ce_v5_30min.csv\n",
    "df_ce = data_loader.load_ce()\n",
    "df_ce.rename(columns={'licence': 'license'}, inplace=True)\n",
    "# Load intersection of trajectory and od, named et list.\n",
    "et_list = data_loader.load_trajectory_od_intersection()\n",
    "# load trajectory default load all history trajectory.\n",
    "original_trajectory = data_loader.load_trajectory()\n",
    "# Load od default load common od, named et od.\n",
    "df_od = data_loader.load_od()\n",
    "df_od.rename(columns={'Licence': 'license'}, inplace=True)\n"
   ],
   "metadata": {
    "collapsed": false,
    "pycharm": {
     "name": "#%%\n"
    }
   }
  },
  {
   "cell_type": "code",
   "execution_count": 15,
   "metadata": {
    "pycharm": {
     "name": "#%%\n"
    }
   },
   "outputs": [
    {
     "data": {
      "text/plain": "HBox(children=(FloatProgress(value=0.0, max=37114.0), HTML(value='')))",
      "application/vnd.jupyter.widget-view+json": {
       "version_major": 2,
       "version_minor": 0,
       "model_id": "805f56160a294f9aaa6116596b5fa2b2"
      }
     },
     "metadata": {},
     "output_type": "display_data"
    },
    {
     "name": "stdout",
     "output_type": "stream",
     "text": [
      "\n",
      "\n",
      "\n",
      "\n",
      "664\n"
     ]
    },
    {
     "data": {
      "text/plain": "HBox(children=(FloatProgress(value=0.0, max=223537.0), HTML(value='')))",
      "application/vnd.jupyter.widget-view+json": {
       "version_major": 2,
       "version_minor": 0,
       "model_id": "3147766d4ba14bef86361cbb614ffc2a"
      }
     },
     "metadata": {},
     "output_type": "display_data"
    },
    {
     "data": {
      "text/plain": "HBox(children=(FloatProgress(value=0.0, max=37114.0), HTML(value='')))",
      "application/vnd.jupyter.widget-view+json": {
       "version_major": 2,
       "version_minor": 0,
       "model_id": "734886f4d3ac4185aea2b62ca653575a"
      }
     },
     "metadata": {},
     "output_type": "display_data"
    },
    {
     "data": {
      "text/plain": "HBox(children=(FloatProgress(value=0.0, max=223537.0), HTML(value='')))",
      "application/vnd.jupyter.widget-view+json": {
       "version_major": 2,
       "version_minor": 0,
       "model_id": "f66190424aaf4b938db329e4fde4d0b2"
      }
     },
     "metadata": {},
     "output_type": "display_data"
    }
   ],
   "source": [
    "#######################################################################################################################\n",
    "# Function1: Merge Trajectory OD\n",
    "# This cell add status column to trajectory data. This cell need 5 min.\n",
    "charging_status_index = df_ce.progress_apply(set_status_index, df_trajectory=original_trajectory, axis=1)\n",
    "od_status_index = df_od.progress_apply(set_status_index, df_trajectory=original_trajectory, axis=1)\n",
    "\n",
    "# 使用start、end对生成status列\n",
    "status = [0] * original_trajectory.shape[0]\n",
    "new_seg = [0] * original_trajectory.shape[0]\n",
    "charging_status_index.progress_apply(set_status, args=(status, new_seg), status_value=2, axis=1)\n",
    "od_status_index.progress_apply(set_status, args=(status, new_seg), status_value=1, axis=1)\n",
    "\n",
    "# 添加status列\n",
    "original_trajectory['status'] = status\n",
    "original_trajectory['new_seg'] = new_seg\n",
    "\n",
    "path = 'data/trajectory_w_status.csv'\n",
    "original_trajectory.loc[original_trajectory['plate'].isin(et_list)].to_csv(path, index=False)\n",
    "print(original_trajectory['plate'].nunique())\n",
    "#######################################################################################################################"
   ]
  }
 ],
 "metadata": {
  "kernelspec": {
   "name": "et",
   "language": "python",
   "display_name": "Python (et)"
  },
  "language_info": {
   "codemirror_mode": {
    "name": "ipython",
    "version": 3
   },
   "file_extension": ".py",
   "mimetype": "text/x-python",
   "name": "python",
   "nbconvert_exporter": "python",
   "pygments_lexer": "ipython3",
   "version": "3.7.7"
  }
 },
 "nbformat": 4,
 "nbformat_minor": 1
}