{
 "cells": [
  {
   "cell_type": "code",
   "execution_count": 1,
   "metadata": {},
   "outputs": [],
   "source": [
    "import requests\n",
    "import json"
   ]
  },
  {
   "cell_type": "code",
   "execution_count": 50,
   "metadata": {},
   "outputs": [],
   "source": [
    "url = 'https://restapi.amap.com/v3/place/around'\n",
    "params = {'key': '3d53bd1d46554f126c8b03e162f98036',\n",
    "          'location': '114.13572,22.543072',\n",
    "          'extensions': 'base',\n",
    "          'radius': 1000,\n",
    "          'output': 'json',\n",
    "          'offset': 50,\n",
    "          'page': 2}\n",
    "res = requests.get(url, params)\n",
    "jd = json.loads(res.text)"
   ]
  },
  {
   "cell_type": "code",
   "execution_count": 51,
   "metadata": {},
   "outputs": [
    {
     "name": "stdout",
     "output_type": "stream",
     "text": [
      "{'1203': 84, '0711': 101, '0705': 44, '0700': 102, '0500': 82, '0706': 9, '0503': 44, '0721': 158, '0718': 7, '0712': 9, '0506': 10, '0716': 30, '0501': 133, '0715': 8, '0714': 24, '0713': 11, '1202': 36, '0507': 9, '0505': 4, '1200': 12, '0701': 4, '0707': 3, '0508': 3, '0502': 10, '0509': 3, '0703': 7, '1300': 1, '0717': 1, '0720': 1}\n"
     ]
    }
   ],
   "source": [
    "poi_distribution = {}\n",
    "for i in range(101):\n",
    "    params['page'] = i\n",
    "    res = requests.get(url, params)\n",
    "    jd = json.loads(res.text)\n",
    "    if 0 == len(jd['pois']):\n",
    "        break\n",
    "    for poi in jd['pois']:\n",
    "        if poi['typecode'][:4] not in poi_distribution:\n",
    "            poi_distribution[poi['typecode'][:4]] = 1\n",
    "        else:\n",
    "            poi_distribution[poi['typecode'][:4]] += 1\n",
    "print(poi_distribution)"
   ]
  }
 ],
 "metadata": {
  "kernelspec": {
   "display_name": "Python 3",
   "language": "python",
   "name": "python3"
  },
  "language_info": {
   "codemirror_mode": {
    "name": "ipython",
    "version": 3
   },
   "file_extension": ".py",
   "mimetype": "text/x-python",
   "name": "python",
   "nbconvert_exporter": "python",
   "pygments_lexer": "ipython3",
   "version": "3.7.5"
  }
 },
 "nbformat": 4,
 "nbformat_minor": 2
}
