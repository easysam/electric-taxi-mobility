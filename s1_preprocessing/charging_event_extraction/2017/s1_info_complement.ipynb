{
 "cells": [
  {
   "cell_type": "code",
   "execution_count": 1,
   "metadata": {},
   "outputs": [
    {
     "name": "stderr",
     "output_type": "stream",
     "text": [
      "/home/wyz/anaconda3/envs/sz17/lib/python3.8/site-packages/tqdm/std.py:701: FutureWarning: The Panel class is removed from pandas. Accessing it from the top-level namespace will also be removed in the next version\n",
      "  from pandas import Panel\n"
     ]
    }
   ],
   "source": [
    "import pandas as pd\n",
    "import numpy as np\n",
    "import dask.dataframe as dd\n",
    "from dask.diagnostics import ProgressBar\n",
    "from tqdm import tqdm\n",
    "tqdm.pandas()"
   ]
  },
  {
   "cell_type": "code",
   "execution_count": 2,
   "metadata": {},
   "outputs": [],
   "source": [
    "raw_trajectory = pd.read_parquet('data/trajectory/sorted_trajectory.parquet')\n",
    "raw_trajectory.loc[raw_trajectory['longitude'] < 11.5, 'longitude'] = raw_trajectory['longitude'] * 10\n",
    "raw_trajectory.loc[raw_trajectory['latitude'] < 2.4, 'latitude'] = raw_trajectory['latitude'] * 10"
   ]
  },
  {
   "cell_type": "code",
   "execution_count": 3,
   "metadata": {},
   "outputs": [],
   "source": [
    "od = dd.read_csv('data/01.出租车/出租车交易数据/TAXIMETERS_DEAL_2017_06_*', header=None, usecols=[0, 1, 2],\n",
    "                 names=['id', 'begin_time', 'end_time'])\n",
    "od['begin_time'] = dd.to_datetime(od['begin_time'], errors='coerce')\n",
    "od['end_time'] = dd.to_datetime(od['end_time'], errors='coerce')\n",
    "od = od.dropna().compute()"
   ]
  },
  {
   "cell_type": "code",
   "execution_count": 4,
   "metadata": {},
   "outputs": [
    {
     "name": "stderr",
     "output_type": "stream",
     "text": [
      "100%|██████████| 21420023/21420023 [1:49:44<00:00, 3252.96it/s]\n"
     ]
    },
    {
     "data": {
      "text/plain": [
       "0.28791410091162895"
      ]
     },
     "execution_count": 4,
     "metadata": {},
     "output_type": "execute_result"
    }
   ],
   "source": [
    "# 1. Add occupied_from_od flag\n",
    "def search_ranges(range_record, trajectories, range_id='Licence', trajectory_id='plate',\n",
    "                  begin_time='begin_time', end_time='end_time'):\n",
    "    _id = range_record[range_id]\n",
    "    _s_t, _e_t = range_record[begin_time], range_record[end_time]\n",
    "    _id_s = trajectories[trajectory_id].searchsorted(_id, side='left')\n",
    "    _id_e = trajectories[trajectory_id].searchsorted(_id, side='right')\n",
    "    _temp = trajectories['timestamp'].iloc[_id_s: _id_e]\n",
    "    _s_i = _id_s + _temp.searchsorted(_s_t, side='left')\n",
    "    _e_i = _id_s + _temp.searchsorted(_e_t, side='right')\n",
    "    return _s_i, _e_i\n",
    "\n",
    "ranges = od.progress_apply(search_ranges, axis=1, args=(raw_trajectory,), range_id='id', trajectory_id='license',\n",
    "                           begin_time='begin_time', end_time='end_time')\n",
    "occupied_idx = np.concatenate([np.array(list(range(_a, _b))) for _a, _b in ranges]).astype(int)\n",
    "raw_trajectory['occupied_from_od'] = False\n",
    "raw_trajectory.iloc[occupied_idx, -1] = True\n",
    "len(raw_trajectory.loc[raw_trajectory['occupied_from_od'] & ~raw_trajectory['occupied']].index\n",
    "    ) / len(raw_trajectory.loc[raw_trajectory['occupied_from_od']].index)"
   ]
  },
  {
   "cell_type": "code",
   "execution_count": 5,
   "metadata": {},
   "outputs": [],
   "source": [
    "# 2.3. Add dis2pre, dur2pre flag\n",
    "def haversine_np(lon1, lat1, lon2, lat2, miles=False):\n",
    "    AVG_EARTH_RADIUS = 6371.0088  # in km\n",
    "    lon1, lat1, lon2, lat2 = map(np.radians, [lon1, lat1, lon2, lat2])\n",
    "    dlon = lon2 - lon1\n",
    "    dlat = lat2 - lat1\n",
    "    d = np.sin(dlat * 0.5) ** 2 + np.cos(lat1) * np.cos(lat2) * np.sin(dlon * 0.5) ** 2\n",
    "    h = 2 * AVG_EARTH_RADIUS * np.arcsin(np.sqrt(d))\n",
    "    if miles:\n",
    "        return h * 0.621371  # in miles\n",
    "    else:\n",
    "        return h  # in kilometers\n",
    "raw_trajectory['dis2pre'] = haversine_np(raw_trajectory['longitude'].shift(), raw_trajectory['latitude'].shift(), \n",
    "                                         raw_trajectory['longitude'], raw_trajectory['latitude']).astype(np.float32)\n",
    "raw_trajectory['dur2pre'] = (raw_trajectory['timestamp']\n",
    "                             - raw_trajectory['timestamp'].shift()).dt.total_seconds().astype(np.float32)\n",
    "raw_trajectory.loc[raw_trajectory['license'] != raw_trajectory['license'].shift(), ['dis2pre', 'dur2pre']] = None"
   ]
  },
  {
   "cell_type": "code",
   "execution_count": 6,
   "metadata": {},
   "outputs": [],
   "source": [
    "# 4. Add big_dur flag\n",
    "raw_trajectory['big_dur'] = raw_trajectory['dur2pre'] > 1800\n",
    "# 5. Add valid flag\n",
    "raw_trajectory['valid'] = ~(raw_trajectory['big_dur'] & (raw_trajectory['dis2pre'] > 0.5))\n",
    "# 6. Add stop flag\n",
    "raw_trajectory['stop'] = (((raw_trajectory['speed'] == 0) & ~raw_trajectory['big_dur']) |\n",
    "                          (raw_trajectory['big_dur'] & raw_trajectory['valid']))"
   ]
  },
  {
   "cell_type": "code",
   "execution_count": 15,
   "metadata": {},
   "outputs": [],
   "source": [
    "raw_trajectory.astype({'speed': np.int16, 'occupied': bool, 'longitude': np.float32, 'latitude': np.float32}\n",
    "                      ).to_parquet('data/trajectory/statuses_wo_charging_resting')"
   ]
  }
 ],
 "metadata": {
  "kernelspec": {
   "display_name": "Python 3",
   "language": "python",
   "name": "python3"
  },
  "language_info": {
   "codemirror_mode": {
    "name": "ipython",
    "version": 3
   },
   "file_extension": ".py",
   "mimetype": "text/x-python",
   "name": "python",
   "nbconvert_exporter": "python",
   "pygments_lexer": "ipython3",
   "version": "3.8.5"
  }
 },
 "nbformat": 4,
 "nbformat_minor": 4
}