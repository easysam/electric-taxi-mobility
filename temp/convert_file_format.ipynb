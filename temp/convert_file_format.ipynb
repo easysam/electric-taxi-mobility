{
 "cells": [
  {
   "cell_type": "code",
   "execution_count": 1,
   "metadata": {
    "collapsed": true
   },
   "outputs": [],
   "source": [
    "import os\n",
    "import yaml\n",
    "import pandas as pd\n",
    "import numpy as np"
   ]
  },
  {
   "cell_type": "code",
   "execution_count": 6,
   "outputs": [],
   "source": [
    "with open(\"config.yaml\", \"r\", encoding=\"utf8\") as f:\n",
    "    conf = yaml.load(f, Loader=yaml.FullLoader)\n",
    "os.chdir(conf[\"project_path\"])"
   ],
   "metadata": {
    "collapsed": false,
    "pycharm": {
     "name": "#%%\n"
    }
   }
  },
  {
   "cell_type": "code",
   "execution_count": 3,
   "outputs": [],
   "source": [
    "od = pd.read_csv(conf['od']['raw1706'])\n",
    "od['begin_time'] = pd.to_datetime(od['begin_time'], format='%Y-%m-%d %H:%M:%S')\n",
    "od['end_time'] = pd.to_datetime(od['end_time'], format='%Y-%m-%d %H:%M:%S')"
   ],
   "metadata": {
    "collapsed": false,
    "pycharm": {
     "name": "#%%\n"
    }
   }
  },
  {
   "cell_type": "code",
   "execution_count": 7,
   "outputs": [],
   "source": [
    "od.astype(dtype={'original_log': np.float32, 'original_lat': np.float32,\n",
    "                 'destination_log': np.float32, 'destination_lat': np.float32}).to_parquet(conf['od']['raw1706_pqt'])"
   ],
   "metadata": {
    "collapsed": false,
    "pycharm": {
     "name": "#%%\n"
    }
   }
  },
  {
   "cell_type": "code",
   "execution_count": 9,
   "outputs": [
    {
     "data": {
      "text/plain": "         original_log  original_lat          begin_time  destination_log  \\\n0          114.116150     22.560801 2017-06-01 00:03:13       114.130585   \n1          114.130051     22.552517 2017-06-01 00:18:28       114.137566   \n2          114.139267     22.576733 2017-06-01 00:35:04       114.122467   \n3          114.121170     22.580967 2017-06-01 00:43:29       114.123734   \n4          114.134735     22.579268 2017-06-01 00:51:42       114.159851   \n...               ...           ...                 ...              ...   \n6031816    114.101814     22.543484 2017-06-29 22:21:11       114.045914   \n6031817    114.053535     22.567183 2017-06-29 22:42:17       114.136230   \n6031818    114.125984     22.559683 2017-06-29 23:14:38       114.108185   \n6031819    114.103935     22.567150 2017-06-29 23:26:55       114.130234   \n6031820    114.124130     22.547649 2017-06-29 23:39:39       114.101166   \n\n         destination_lat            end_time       id  \n0              22.550917 2017-06-01 00:10:11  粤BE5634  \n1              22.580383 2017-06-01 00:26:59  粤BE5634  \n2              22.580267 2017-06-01 00:41:43  粤BE5634  \n3              22.579332 2017-06-01 00:47:35  粤BE5634  \n4              22.607800 2017-06-01 00:59:45  粤BE5634  \n...                  ...                 ...      ...  \n6031816        22.566917 2017-06-29 22:39:09  粤BE7942  \n6031817        22.583717 2017-06-29 22:59:55  粤BE7942  \n6031818        22.575867 2017-06-29 23:21:47  粤BE7942  \n6031819        22.554882 2017-06-29 23:34:49  粤BE7942  \n6031820        22.546932 2017-06-29 23:51:57  粤BE7942  \n\n[6031821 rows x 7 columns]",
      "text/html": "<div>\n<style scoped>\n    .dataframe tbody tr th:only-of-type {\n        vertical-align: middle;\n    }\n\n    .dataframe tbody tr th {\n        vertical-align: top;\n    }\n\n    .dataframe thead th {\n        text-align: right;\n    }\n</style>\n<table border=\"1\" class=\"dataframe\">\n  <thead>\n    <tr style=\"text-align: right;\">\n      <th></th>\n      <th>original_log</th>\n      <th>original_lat</th>\n      <th>begin_time</th>\n      <th>destination_log</th>\n      <th>destination_lat</th>\n      <th>end_time</th>\n      <th>id</th>\n    </tr>\n  </thead>\n  <tbody>\n    <tr>\n      <th>0</th>\n      <td>114.116150</td>\n      <td>22.560801</td>\n      <td>2017-06-01 00:03:13</td>\n      <td>114.130585</td>\n      <td>22.550917</td>\n      <td>2017-06-01 00:10:11</td>\n      <td>粤BE5634</td>\n    </tr>\n    <tr>\n      <th>1</th>\n      <td>114.130051</td>\n      <td>22.552517</td>\n      <td>2017-06-01 00:18:28</td>\n      <td>114.137566</td>\n      <td>22.580383</td>\n      <td>2017-06-01 00:26:59</td>\n      <td>粤BE5634</td>\n    </tr>\n    <tr>\n      <th>2</th>\n      <td>114.139267</td>\n      <td>22.576733</td>\n      <td>2017-06-01 00:35:04</td>\n      <td>114.122467</td>\n      <td>22.580267</td>\n      <td>2017-06-01 00:41:43</td>\n      <td>粤BE5634</td>\n    </tr>\n    <tr>\n      <th>3</th>\n      <td>114.121170</td>\n      <td>22.580967</td>\n      <td>2017-06-01 00:43:29</td>\n      <td>114.123734</td>\n      <td>22.579332</td>\n      <td>2017-06-01 00:47:35</td>\n      <td>粤BE5634</td>\n    </tr>\n    <tr>\n      <th>4</th>\n      <td>114.134735</td>\n      <td>22.579268</td>\n      <td>2017-06-01 00:51:42</td>\n      <td>114.159851</td>\n      <td>22.607800</td>\n      <td>2017-06-01 00:59:45</td>\n      <td>粤BE5634</td>\n    </tr>\n    <tr>\n      <th>...</th>\n      <td>...</td>\n      <td>...</td>\n      <td>...</td>\n      <td>...</td>\n      <td>...</td>\n      <td>...</td>\n      <td>...</td>\n    </tr>\n    <tr>\n      <th>6031816</th>\n      <td>114.101814</td>\n      <td>22.543484</td>\n      <td>2017-06-29 22:21:11</td>\n      <td>114.045914</td>\n      <td>22.566917</td>\n      <td>2017-06-29 22:39:09</td>\n      <td>粤BE7942</td>\n    </tr>\n    <tr>\n      <th>6031817</th>\n      <td>114.053535</td>\n      <td>22.567183</td>\n      <td>2017-06-29 22:42:17</td>\n      <td>114.136230</td>\n      <td>22.583717</td>\n      <td>2017-06-29 22:59:55</td>\n      <td>粤BE7942</td>\n    </tr>\n    <tr>\n      <th>6031818</th>\n      <td>114.125984</td>\n      <td>22.559683</td>\n      <td>2017-06-29 23:14:38</td>\n      <td>114.108185</td>\n      <td>22.575867</td>\n      <td>2017-06-29 23:21:47</td>\n      <td>粤BE7942</td>\n    </tr>\n    <tr>\n      <th>6031819</th>\n      <td>114.103935</td>\n      <td>22.567150</td>\n      <td>2017-06-29 23:26:55</td>\n      <td>114.130234</td>\n      <td>22.554882</td>\n      <td>2017-06-29 23:34:49</td>\n      <td>粤BE7942</td>\n    </tr>\n    <tr>\n      <th>6031820</th>\n      <td>114.124130</td>\n      <td>22.547649</td>\n      <td>2017-06-29 23:39:39</td>\n      <td>114.101166</td>\n      <td>22.546932</td>\n      <td>2017-06-29 23:51:57</td>\n      <td>粤BE7942</td>\n    </tr>\n  </tbody>\n</table>\n<p>6031821 rows × 7 columns</p>\n</div>"
     },
     "execution_count": 9,
     "metadata": {},
     "output_type": "execute_result"
    }
   ],
   "source": [
    "od"
   ],
   "metadata": {
    "collapsed": false,
    "pycharm": {
     "name": "#%%\n"
    }
   }
  }
 ],
 "metadata": {
  "kernelspec": {
   "display_name": "Python 3",
   "language": "python",
   "name": "python3"
  },
  "language_info": {
   "codemirror_mode": {
    "name": "ipython",
    "version": 2
   },
   "file_extension": ".py",
   "mimetype": "text/x-python",
   "name": "python",
   "nbconvert_exporter": "python",
   "pygments_lexer": "ipython2",
   "version": "2.7.6"
  }
 },
 "nbformat": 4,
 "nbformat_minor": 0
}