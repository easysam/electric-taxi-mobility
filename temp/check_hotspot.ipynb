{
 "cells": [
  {
   "cell_type": "code",
   "execution_count": 1,
   "metadata": {
    "collapsed": true
   },
   "outputs": [],
   "source": [
    "import os\n",
    "import yaml\n",
    "import pickle\n",
    "import pandas as pd"
   ]
  },
  {
   "cell_type": "code",
   "execution_count": 2,
   "outputs": [],
   "source": [
    "with open(\"../config.yaml\", \"r\", encoding=\"utf8\") as f:\n",
    "    conf = yaml.load(f, Loader=yaml.FullLoader)\n",
    "os.chdir(conf[\"project_path\"])"
   ],
   "metadata": {
    "collapsed": false,
    "pycharm": {
     "name": "#%%\n"
    }
   }
  },
  {
   "cell_type": "code",
   "execution_count": 3,
   "outputs": [
    {
     "data": {
      "text/plain": "   Licence           begin_time             end_time  original_log  \\\n0  粤B000H6  2014-07-03 00:33:35  2014-07-03 00:39:11    113.945236   \n1  粤B000H6  2014-07-03 01:14:53  2014-07-03 01:21:22    114.067917   \n2  粤B000H6  2014-07-03 07:07:53  2014-07-03 07:23:23    114.122681   \n\n   original_lat  destination_log  destination_lat  in_bbox  original_x  \\\n0     22.523884       113.922867        22.522551     True       171.0   \n1     22.523817       114.086533        22.540051     True       287.0   \n2     22.578699       114.126518        22.543716     True       339.0   \n\n   original_y  original_cube  destination_x  destination_y  destination_cube  \\\n0       328.0         262571          149.0          330.0            264149   \n1       328.0         262687          304.0          312.0            249904   \n2       272.0         217939          342.0          308.0            246742   \n\n   load_label  drop_label _merge  \n0         110          18   both  \n1           4           5   both  \n2          52           3   both  ",
      "text/html": "<div>\n<style scoped>\n    .dataframe tbody tr th:only-of-type {\n        vertical-align: middle;\n    }\n\n    .dataframe tbody tr th {\n        vertical-align: top;\n    }\n\n    .dataframe thead th {\n        text-align: right;\n    }\n</style>\n<table border=\"1\" class=\"dataframe\">\n  <thead>\n    <tr style=\"text-align: right;\">\n      <th></th>\n      <th>Licence</th>\n      <th>begin_time</th>\n      <th>end_time</th>\n      <th>original_log</th>\n      <th>original_lat</th>\n      <th>destination_log</th>\n      <th>destination_lat</th>\n      <th>in_bbox</th>\n      <th>original_x</th>\n      <th>original_y</th>\n      <th>original_cube</th>\n      <th>destination_x</th>\n      <th>destination_y</th>\n      <th>destination_cube</th>\n      <th>load_label</th>\n      <th>drop_label</th>\n      <th>_merge</th>\n    </tr>\n  </thead>\n  <tbody>\n    <tr>\n      <th>0</th>\n      <td>粤B000H6</td>\n      <td>2014-07-03 00:33:35</td>\n      <td>2014-07-03 00:39:11</td>\n      <td>113.945236</td>\n      <td>22.523884</td>\n      <td>113.922867</td>\n      <td>22.522551</td>\n      <td>True</td>\n      <td>171.0</td>\n      <td>328.0</td>\n      <td>262571</td>\n      <td>149.0</td>\n      <td>330.0</td>\n      <td>264149</td>\n      <td>110</td>\n      <td>18</td>\n      <td>both</td>\n    </tr>\n    <tr>\n      <th>1</th>\n      <td>粤B000H6</td>\n      <td>2014-07-03 01:14:53</td>\n      <td>2014-07-03 01:21:22</td>\n      <td>114.067917</td>\n      <td>22.523817</td>\n      <td>114.086533</td>\n      <td>22.540051</td>\n      <td>True</td>\n      <td>287.0</td>\n      <td>328.0</td>\n      <td>262687</td>\n      <td>304.0</td>\n      <td>312.0</td>\n      <td>249904</td>\n      <td>4</td>\n      <td>5</td>\n      <td>both</td>\n    </tr>\n    <tr>\n      <th>2</th>\n      <td>粤B000H6</td>\n      <td>2014-07-03 07:07:53</td>\n      <td>2014-07-03 07:23:23</td>\n      <td>114.122681</td>\n      <td>22.578699</td>\n      <td>114.126518</td>\n      <td>22.543716</td>\n      <td>True</td>\n      <td>339.0</td>\n      <td>272.0</td>\n      <td>217939</td>\n      <td>342.0</td>\n      <td>308.0</td>\n      <td>246742</td>\n      <td>52</td>\n      <td>3</td>\n      <td>both</td>\n    </tr>\n  </tbody>\n</table>\n</div>"
     },
     "execution_count": 3,
     "metadata": {},
     "output_type": "execute_result"
    }
   ],
   "source": [
    "df = pd.read_csv(\"data/od/fod_w_14f_hs.csv\",)\n",
    "df.dropna(inplace=True)\n",
    "df[['load_label', 'original_cube', 'drop_label', 'destination_cube']] = df[['load_label', 'original_cube',\n",
    "                                                                            'drop_label', 'destination_cube']].astype(int)\n",
    "df.head(3)"
   ],
   "metadata": {
    "collapsed": false,
    "pycharm": {
     "name": "#%%\n"
    }
   }
  },
  {
   "cell_type": "code",
   "execution_count": 4,
   "outputs": [],
   "source": [
    "# Check whether pick-up and drop-off hotspot labels are correct, through checking whether pick-up and drop-off\n",
    "# cube is in labeled pick-up and drop-off cluster.\n",
    "with open(\"data/hotspot/f14p.list_of_dict\", 'rb') as f:\n",
    "    p_hs = pickle.load(f)\n",
    "def check(record, hs):\n",
    "    return record['original_cube'] in hs[record['load_label']]['hotpots']\n",
    "df.apply(check, args=(p_hs,), axis=1).sum()\n",
    "# Correct: every pick-up and drop-off cube is in labeled pick-up and drop-off cluster."
   ],
   "metadata": {
    "collapsed": false,
    "pycharm": {
     "name": "#%%\n"
    }
   }
  }
 ],
 "metadata": {
  "kernelspec": {
   "display_name": "Python 3",
   "language": "python",
   "name": "python3"
  },
  "language_info": {
   "codemirror_mode": {
    "name": "ipython",
    "version": 2
   },
   "file_extension": ".py",
   "mimetype": "text/x-python",
   "name": "python",
   "nbconvert_exporter": "python",
   "pygments_lexer": "ipython2",
   "version": "2.7.6"
  }
 },
 "nbformat": 4,
 "nbformat_minor": 0
}