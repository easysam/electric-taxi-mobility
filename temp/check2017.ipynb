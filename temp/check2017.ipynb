{
 "cells": [
  {
   "cell_type": "code",
   "execution_count": 1,
   "outputs": [],
   "source": [
    "import pandas as pd"
   ],
   "metadata": {
    "collapsed": false,
    "pycharm": {
     "name": "#%%\n"
    }
   }
  },
  {
   "cell_type": "code",
   "execution_count": 2,
   "outputs": [],
   "source": [
    "df = pd.read_csv(r\"C:\\Users\\hkrep\\PycharmProjects\\electric-taxi-mobility\\data\\od\\201706_et_od.csv\")"
   ],
   "metadata": {
    "collapsed": false,
    "pycharm": {
     "name": "#%%\n"
    }
   }
  },
  {
   "cell_type": "code",
   "execution_count": 6,
   "outputs": [],
   "source": [
    "df[\"id\"] = df[\"path\"].str.rsplit('/', n=1, expand=True)[1]\n",
    "df.drop(\"path\", axis=1, inplace=True)"
   ],
   "metadata": {
    "collapsed": false,
    "pycharm": {
     "name": "#%%\n"
    }
   }
  },
  {
   "cell_type": "code",
   "execution_count": 7,
   "outputs": [
    {
     "data": {
      "text/plain": "         original_log  original_lat           begin_time  destination_log  \\\n0          113.871803     22.573999  2017-06-01 06:23:12       113.868797   \n1          113.893303     22.561501  2017-06-01 07:13:44       113.892097   \n2          113.879402     22.592699  2017-06-01 07:39:49       113.875900   \n3          113.897400     22.564501  2017-06-01 08:05:59       113.901497   \n4          113.903297     22.575600  2017-06-01 08:13:29       113.907799   \n...               ...           ...                  ...              ...   \n6479153    113.933502     22.544300  2017-06-29 09:21:19       113.933601   \n6479154    114.065498     22.630600  2017-06-29 14:15:28       114.065498   \n6479155    114.065498     22.630600  2017-06-29 14:32:43       113.971497   \n6479156    113.931000     22.520300  2017-06-29 17:41:19       113.928596   \n6479157    114.065498     22.630600  2017-06-29 20:08:36       113.951103   \n\n         destination_lat             end_time       id  \n0              22.576200  2017-06-01 06:28:28  粤B001ZD  \n1              22.565800  2017-06-01 07:17:33  粤B001ZD  \n2              22.583200  2017-06-01 07:47:47  粤B001ZD  \n3              22.568600  2017-06-01 08:11:15  粤B001ZD  \n4              22.585199  2017-06-01 08:28:14  粤B001ZD  \n...                  ...                  ...      ...  \n6479153        22.546101  2017-06-29 09:40:15  粤BZ9Z49  \n6479154        22.630600  2017-06-29 14:19:14  粤BZ9Z49  \n6479155        22.539700  2017-06-29 14:34:40  粤BZ9Z49  \n6479156        22.510799  2017-06-29 17:48:50  粤BZ9Z49  \n6479157        22.561800  2017-06-29 20:17:13  粤BZ9Z49  \n\n[6479158 rows x 7 columns]",
      "text/html": "<div>\n<style scoped>\n    .dataframe tbody tr th:only-of-type {\n        vertical-align: middle;\n    }\n\n    .dataframe tbody tr th {\n        vertical-align: top;\n    }\n\n    .dataframe thead th {\n        text-align: right;\n    }\n</style>\n<table border=\"1\" class=\"dataframe\">\n  <thead>\n    <tr style=\"text-align: right;\">\n      <th></th>\n      <th>original_log</th>\n      <th>original_lat</th>\n      <th>begin_time</th>\n      <th>destination_log</th>\n      <th>destination_lat</th>\n      <th>end_time</th>\n      <th>id</th>\n    </tr>\n  </thead>\n  <tbody>\n    <tr>\n      <th>0</th>\n      <td>113.871803</td>\n      <td>22.573999</td>\n      <td>2017-06-01 06:23:12</td>\n      <td>113.868797</td>\n      <td>22.576200</td>\n      <td>2017-06-01 06:28:28</td>\n      <td>粤B001ZD</td>\n    </tr>\n    <tr>\n      <th>1</th>\n      <td>113.893303</td>\n      <td>22.561501</td>\n      <td>2017-06-01 07:13:44</td>\n      <td>113.892097</td>\n      <td>22.565800</td>\n      <td>2017-06-01 07:17:33</td>\n      <td>粤B001ZD</td>\n    </tr>\n    <tr>\n      <th>2</th>\n      <td>113.879402</td>\n      <td>22.592699</td>\n      <td>2017-06-01 07:39:49</td>\n      <td>113.875900</td>\n      <td>22.583200</td>\n      <td>2017-06-01 07:47:47</td>\n      <td>粤B001ZD</td>\n    </tr>\n    <tr>\n      <th>3</th>\n      <td>113.897400</td>\n      <td>22.564501</td>\n      <td>2017-06-01 08:05:59</td>\n      <td>113.901497</td>\n      <td>22.568600</td>\n      <td>2017-06-01 08:11:15</td>\n      <td>粤B001ZD</td>\n    </tr>\n    <tr>\n      <th>4</th>\n      <td>113.903297</td>\n      <td>22.575600</td>\n      <td>2017-06-01 08:13:29</td>\n      <td>113.907799</td>\n      <td>22.585199</td>\n      <td>2017-06-01 08:28:14</td>\n      <td>粤B001ZD</td>\n    </tr>\n    <tr>\n      <th>...</th>\n      <td>...</td>\n      <td>...</td>\n      <td>...</td>\n      <td>...</td>\n      <td>...</td>\n      <td>...</td>\n      <td>...</td>\n    </tr>\n    <tr>\n      <th>6479153</th>\n      <td>113.933502</td>\n      <td>22.544300</td>\n      <td>2017-06-29 09:21:19</td>\n      <td>113.933601</td>\n      <td>22.546101</td>\n      <td>2017-06-29 09:40:15</td>\n      <td>粤BZ9Z49</td>\n    </tr>\n    <tr>\n      <th>6479154</th>\n      <td>114.065498</td>\n      <td>22.630600</td>\n      <td>2017-06-29 14:15:28</td>\n      <td>114.065498</td>\n      <td>22.630600</td>\n      <td>2017-06-29 14:19:14</td>\n      <td>粤BZ9Z49</td>\n    </tr>\n    <tr>\n      <th>6479155</th>\n      <td>114.065498</td>\n      <td>22.630600</td>\n      <td>2017-06-29 14:32:43</td>\n      <td>113.971497</td>\n      <td>22.539700</td>\n      <td>2017-06-29 14:34:40</td>\n      <td>粤BZ9Z49</td>\n    </tr>\n    <tr>\n      <th>6479156</th>\n      <td>113.931000</td>\n      <td>22.520300</td>\n      <td>2017-06-29 17:41:19</td>\n      <td>113.928596</td>\n      <td>22.510799</td>\n      <td>2017-06-29 17:48:50</td>\n      <td>粤BZ9Z49</td>\n    </tr>\n    <tr>\n      <th>6479157</th>\n      <td>114.065498</td>\n      <td>22.630600</td>\n      <td>2017-06-29 20:08:36</td>\n      <td>113.951103</td>\n      <td>22.561800</td>\n      <td>2017-06-29 20:17:13</td>\n      <td>粤BZ9Z49</td>\n    </tr>\n  </tbody>\n</table>\n<p>6479158 rows × 7 columns</p>\n</div>"
     },
     "execution_count": 7,
     "metadata": {},
     "output_type": "execute_result"
    }
   ],
   "source": [
    "df"
   ],
   "metadata": {
    "collapsed": false,
    "pycharm": {
     "name": "#%%\n"
    }
   }
  }
 ],
 "metadata": {
  "kernelspec": {
   "display_name": "Python 3",
   "language": "python",
   "name": "python3"
  },
  "language_info": {
   "codemirror_mode": {
    "name": "ipython",
    "version": 2
   },
   "file_extension": ".py",
   "mimetype": "text/x-python",
   "name": "python",
   "nbconvert_exporter": "python",
   "pygments_lexer": "ipython2",
   "version": "2.7.6"
  }
 },
 "nbformat": 4,
 "nbformat_minor": 0
}