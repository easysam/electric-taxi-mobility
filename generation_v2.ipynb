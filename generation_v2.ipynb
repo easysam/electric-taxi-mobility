{
 "cells": [
  {
   "cell_type": "code",
   "execution_count": 1,
   "metadata": {},
   "outputs": [],
   "source": [
    "import pickle\n",
    "import torch\n",
    "import logging\n",
    "import utils.data_loader as data_loader\n",
    "import utils.display as display\n",
    "import pandas as pd\n",
    "import numpy as np\n",
    "from datetime import datetime, timedelta\n",
    "from scipy.spatial.distance import cdist\n",
    "from tqdm.notebook import tqdm\n",
    "from sklearn.metrics.pairwise import haversine_distances\n",
    "import charging_behavior.where_to_charge.NN_utility_model as NN_utility_model\n",
    "\n",
    "display.configure_pandas()\n",
    "display.configure_logging()"
   ]
  },
  {
   "cell_type": "code",
   "execution_count": 2,
   "outputs": [
    {
     "name": "stderr",
     "output_type": "stream",
     "text": [
      "22-Jul-20 12:09:12 - Loadingdata/rest/generated_rest_event_v1.csv\n",
      "22-Jul-20 12:09:12 - Loadingdata/rest/rest_events.csv\n",
      "22-Jul-20 12:09:12 - Loadingdata/od/od_with_distance_between_before.csv\n",
      "22-Jul-20 12:09:13 - Loading data/od/full_od_with_hotpots_v4.csv\n",
      "22-Jul-20 12:09:14 - Loading data/ce/v5_30min.csv\n",
      "22-Jul-20 12:09:14 - Load data/transit_matrix/full_load_clusters.list_of_dict_v4\n",
      "22-Jul-20 12:09:14 - Load data/transit_matrix/full_drop_clusters.list_of_dict_v4\n",
      "22-Jul-20 12:09:14 - Loadingdata/cs/ChargeLocation201407\n"
     ]
    }
   ],
   "source": [
    "# Rest events and generated rest events\n",
    "generated_rest = data_loader.load_generated()\n",
    "rest_events = data_loader.load_rest()\n",
    "\n",
    "# OD data\n",
    "od_distance = data_loader.load_od(scale='full', with_distance=True)\n",
    "od_with_hs = data_loader.load_od(with_hotpots=True, version='v4')\n",
    "od_with_hs = od_with_hs[['Licence', 'begin_time', 'end_time', 'in_bbox', 'load_label', 'drop_label']]\n",
    "od_with_hs = od_with_hs.merge(od_distance[['Licence', 'begin_time', 'distance_before_od', 'od_distance']])\n",
    "\n",
    "# Charging events\n",
    "ce = data_loader.load_ce(version='v5_30min')\n",
    "common = data_loader.load_trajectory_od_intersection()\n",
    "ce = ce.loc[ce['licence'].isin(common)].reset_index(drop=True)\n",
    "\n",
    "# Transit matrices\n",
    "with open('data/transit_matrix/p2d_v3.list_of_df', 'rb') as f:\n",
    "    p2d = pickle.load(f)\n",
    "with open('data/transit_matrix/p2d_time_v3.list_of_df', 'rb') as f:\n",
    "    p2d_t = pickle.load(f)\n",
    "with open('data/transit_matrix/d2p_v3.list_of_df', 'rb') as f:\n",
    "    d2p = pickle.load(f)\n",
    "with open('data/transit_matrix/d2p_time_v3.list_of_df', 'rb') as f:\n",
    "    d2p_t = pickle.load(f)\n",
    "\n",
    "# Pick-up hotspots and  drop-off hotspots\n",
    "p_hs = data_loader.load_clusters()\n",
    "d_hs = data_loader.drop_clusters()\n",
    "p_hs = pd.DataFrame.from_dict(p_hs)\n",
    "d_hs = pd.DataFrame.from_dict(d_hs)\n",
    "\n",
    "# Charging station data\n",
    "df_cs, dates = data_loader.load_cs(date=datetime(2014, 7, 1))\n",
    "df_cs = df_cs.loc[~df_cs['cs_name'].isin(['LJDL', 'E04', 'BN0002', 'F11', \n",
    "                                          'S1', 'S2', 'F12', 'F13', 'F15'])].reset_index()\n",
    "cs_location = df_cs[['Latitude', 'Longitude']].to_numpy()"
   ],
   "metadata": {
    "collapsed": false,
    "pycharm": {
     "name": "#%%\n"
    }
   }
  },
  {
   "cell_type": "code",
   "execution_count": 4,
   "outputs": [
    {
     "name": "stderr",
     "output_type": "stream",
     "text": [
      "22-Jul-20 15:06:25 - Loading charging_behavior/whether_to_charge/model_80train.pickle\n",
      "22-Jul-20 15:06:25 - Loading charging_behavior/whether_to_charge/StandardScaler.pickle\n"
     ]
    }
   ],
   "source": [
    "# predictions = wtc_model.predict(test_X) ['hour', 'weekday', 'min_dis', 'max_dis', 'avg_dis', 'mid_dis']\n",
    "wtc_model, whether_charge_scaler = data_loader.pickle_load('if_to_charge')"
   ],
   "metadata": {
    "collapsed": false,
    "pycharm": {
     "name": "#%%\n"
    }
   }
  },
  {
   "cell_type": "code",
   "execution_count": 5,
   "metadata": {},
   "outputs": [
    {
     "name": "stderr",
     "output_type": "stream",
     "text": [
      "22-Jul-20 15:08:53 - cuda is available\n"
     ]
    }
   ],
   "source": [
    "device = 'cuda' if torch.cuda.is_available() else 'cpu'\n",
    "logging.info(device + ' is available')\n",
    "# 初始化模型并加载参数\n",
    "model = NN_utility_model.Net()\n",
    "model.to(device)\n",
    "# model_path = r'C:\\Users\\hkrep\\PycharmProjects\\ChargingEventsExtraction\\data\\preference_learning\\pytorch_model\\para_v2'\n",
    "model_path = 'charging_behavior/where_to_charge/para_v3_30epoch.pkl'\n",
    "model.load_state_dict(torch.load(model_path))\n",
    "model.eval()\n",
    "softmax = torch.nn.Softmax(dim=1)"
   ]
  },
  {
   "cell_type": "code",
   "execution_count": 10,
   "metadata": {},
   "outputs": [],
   "source": [
    "p2d_distance = od_with_hs.groupby(['load_label', 'drop_label'])['od_distance'].mean()"
   ]
  },
  {
   "cell_type": "code",
   "execution_count": 6,
   "metadata": {},
   "outputs": [
    {
     "name": "stderr",
     "output_type": "stream",
     "text": [
      "C:\\Users\\hkrep\\anaconda3\\envs\\et\\lib\\site-packages\\tqdm\\std.py:668: FutureWarning: The Panel class is removed from pandas. Accessing it from the top-level namespace will also be removed in the next version\n",
      "  from pandas import Panel\n"
     ]
    },
    {
     "data": {
      "text/plain": "HBox(children=(FloatProgress(value=0.0, max=643.0), HTML(value='')))",
      "application/vnd.jupyter.widget-view+json": {
       "version_major": 2,
       "version_minor": 0,
       "model_id": "114467a4004a4653805c6059f30c4e3d"
      }
     },
     "metadata": {},
     "output_type": "display_data"
    },
    {
     "name": "stdout",
     "output_type": "stream",
     "text": [
      "\n",
      "\n"
     ]
    },
    {
     "data": {
      "text/plain": "HBox(children=(FloatProgress(value=0.0, max=643.0), HTML(value='')))",
      "application/vnd.jupyter.widget-view+json": {
       "version_major": 2,
       "version_minor": 0,
       "model_id": "e5e7a52c14a642ab93864e8f9a212303"
      }
     },
     "metadata": {},
     "output_type": "display_data"
    }
   ],
   "source": [
    "# 给od数据添加信息：是否在一次充电或休息事件之后\n",
    "# First mark whether it is after a charging event\n",
    "def add_whether_after_ce(license_ce, od_all=od_with_hs):\n",
    "    begin_index = od_all['Licence'].searchsorted(license_ce.name, side='left')\n",
    "    end_index = od_all['Licence'].searchsorted(license_ce.name, side='right')\n",
    "    license_od = od_all.iloc[begin_index: end_index]\n",
    "    od_count = len(license_od.index)\n",
    "    for _, row in license_ce.iterrows():\n",
    "        od_index = license_od['begin_time'].searchsorted(row['start_charging'])\n",
    "        if od_index == od_count:\n",
    "            break\n",
    "        else:\n",
    "            license_od.at[license_od.index[od_index], 'after_ce'] = True\n",
    "    return license_od\n",
    "\n",
    "tqdm.pandas()\n",
    "od_with_hs['after_ce'] = False\n",
    "od_with_hs = ce.groupby('licence').progress_apply(add_whether_after_ce, od_all=od_with_hs).reset_index(drop=True)\n",
    "\n",
    "# Second mark whether it is after a rest event\n",
    "def add_whether_after_rest(license_od, all_rests=None):\n",
    "    begin_index = all_rests['license'].searchsorted(license_od.name, side='left')\n",
    "    end_index = all_rests['license'].searchsorted(license_od.name, side='right')\n",
    "    license_rests = all_rests.iloc[begin_index: end_index]\n",
    "    od_count = len(license_od.index)\n",
    "    for _, row in license_rests.iterrows():\n",
    "        od_index = license_od['begin_time'].searchsorted(row['start_time'])\n",
    "        if od_index == od_count:\n",
    "            break\n",
    "        else:\n",
    "            license_od.at[license_od.index[od_index], 'after_rest'] = True\n",
    "    return license_od\n",
    "\n",
    "tqdm.pandas()\n",
    "od_with_hs['after_rest'] = False\n",
    "od_with_hs = od_with_hs.groupby('Licence').progress_apply(add_whether_after_rest, all_rests=rest_events)"
   ]
  },
  {
   "cell_type": "code",
   "execution_count": 7,
   "metadata": {},
   "outputs": [],
   "source": [
    "od_with_hs['last_drop_label'] = od_with_hs['drop_label'].shift()\n",
    "od_with_hs.loc[od_with_hs['Licence'] != od_with_hs['Licence'].shift(), 'last_drop_label'] = None\n",
    "\n",
    "df_to_count_distance = pd.merge(od_distance[['Licence', 'begin_time', 'distance_before_od', 'od_distance']], \n",
    "                                od_with_hs, how='inner')\n",
    "\n",
    "d2p_distance = df_to_count_distance.loc[~(od_with_hs['after_ce'] \n",
    "                                          | od_with_hs['after_rest'])].groupby(['last_drop_label', \n",
    "                                                                                'load_label'])['distance_before_od'].mean()"
   ]
  },
  {
   "cell_type": "code",
   "execution_count": 8,
   "metadata": {
    "scrolled": true
   },
   "outputs": [
    {
     "data": {
      "text/plain": "HBox(children=(FloatProgress(value=0.0, max=24.0), HTML(value='')))",
      "application/vnd.jupyter.widget-view+json": {
       "version_major": 2,
       "version_minor": 0,
       "model_id": "61144eb2a2534938943fa34d8c461c2b"
      }
     },
     "metadata": {},
     "output_type": "display_data"
    },
    {
     "name": "stdout",
     "output_type": "stream",
     "text": [
      "\n"
     ]
    }
   ],
   "source": [
    "# 算出发分布\n",
    "departure_distributions = []\n",
    "for i in tqdm(range(24)):\n",
    "    departure_hs = od_with_hs.loc[(od_with_hs['begin_time'].dt.hour == i) \n",
    "                                  & od_with_hs['after_rest'] \n",
    "                                  & (-1 != od_with_hs['load_label']), 'load_label'].value_counts()\n",
    "    departure_hs = departure_hs / departure_hs.sum()\n",
    "    departure_distributions.append(departure_hs)"
   ]
  },
  {
   "cell_type": "code",
   "execution_count": 11,
   "metadata": {},
   "outputs": [
    {
     "name": "stderr",
     "output_type": "stream",
     "text": [
      "C:\\Users\\hkrep\\anaconda3\\envs\\et\\lib\\site-packages\\tqdm\\std.py:668: FutureWarning: The Panel class is removed from pandas. Accessing it from the top-level namespace will also be removed in the next version\n",
      "  from pandas import Panel\n"
     ]
    },
    {
     "data": {
      "text/plain": "HBox(children=(FloatProgress(value=0.0, max=664.0), HTML(value='')))",
      "application/vnd.jupyter.widget-view+json": {
       "version_major": 2,
       "version_minor": 0,
       "model_id": "efd3227c3e0149c8be977e6c1ee500e3"
      }
     },
     "metadata": {},
     "output_type": "display_data"
    },
    {
     "name": "stdout",
     "output_type": "stream",
     "text": [
      "\n"
     ]
    },
    {
     "ename": "KeyError",
     "evalue": "(137, 168)",
     "output_type": "error",
     "traceback": [
      "\u001B[1;31m---------------------------------------------------------------------------\u001B[0m",
      "\u001B[1;31mKeyError\u001B[0m                                  Traceback (most recent call last)",
      "\u001B[1;32m~\\anaconda3\\envs\\et\\lib\\site-packages\\pandas\\core\\indexes\\multi.py\u001B[0m in \u001B[0;36mget_loc_level\u001B[1;34m(self, key, level, drop_level)\u001B[0m\n\u001B[0;32m   2813\u001B[0m                     \u001B[1;32mtry\u001B[0m\u001B[1;33m:\u001B[0m\u001B[1;33m\u001B[0m\u001B[1;33m\u001B[0m\u001B[0m\n\u001B[1;32m-> 2814\u001B[1;33m                         \u001B[1;32mreturn\u001B[0m \u001B[1;33m(\u001B[0m\u001B[0mself\u001B[0m\u001B[1;33m.\u001B[0m\u001B[0m_engine\u001B[0m\u001B[1;33m.\u001B[0m\u001B[0mget_loc\u001B[0m\u001B[1;33m(\u001B[0m\u001B[0mkey\u001B[0m\u001B[1;33m)\u001B[0m\u001B[1;33m,\u001B[0m \u001B[1;32mNone\u001B[0m\u001B[1;33m)\u001B[0m\u001B[1;33m\u001B[0m\u001B[1;33m\u001B[0m\u001B[0m\n\u001B[0m\u001B[0;32m   2815\u001B[0m                     \u001B[1;32mexcept\u001B[0m \u001B[0mKeyError\u001B[0m \u001B[1;32mas\u001B[0m \u001B[0me\u001B[0m\u001B[1;33m:\u001B[0m\u001B[1;33m\u001B[0m\u001B[1;33m\u001B[0m\u001B[0m\n",
      "\u001B[1;32mpandas\\_libs\\index.pyx\u001B[0m in \u001B[0;36mpandas._libs.index.BaseMultiIndexCodesEngine.get_loc\u001B[1;34m()\u001B[0m\n",
      "\u001B[1;32mpandas\\_libs\\index.pyx\u001B[0m in \u001B[0;36mpandas._libs.index.IndexEngine.get_loc\u001B[1;34m()\u001B[0m\n",
      "\u001B[1;32mpandas\\_libs\\index.pyx\u001B[0m in \u001B[0;36mpandas._libs.index.IndexEngine.get_loc\u001B[1;34m()\u001B[0m\n",
      "\u001B[1;32mpandas\\_libs\\hashtable_class_helper.pxi\u001B[0m in \u001B[0;36mpandas._libs.hashtable.UInt64HashTable.get_item\u001B[1;34m()\u001B[0m\n",
      "\u001B[1;32mpandas\\_libs\\hashtable_class_helper.pxi\u001B[0m in \u001B[0;36mpandas._libs.hashtable.UInt64HashTable.get_item\u001B[1;34m()\u001B[0m\n",
      "\u001B[1;31mKeyError\u001B[0m: 71338",
      "\nThe above exception was the direct cause of the following exception:\n",
      "\u001B[1;31mKeyError\u001B[0m                                  Traceback (most recent call last)",
      "\u001B[1;32m<ipython-input-11-38d27146cab7>\u001B[0m in \u001B[0;36m<module>\u001B[1;34m\u001B[0m\n\u001B[0;32m    158\u001B[0m \u001B[1;33m\u001B[0m\u001B[0m\n\u001B[0;32m    159\u001B[0m \u001B[0mtqdm\u001B[0m\u001B[1;33m.\u001B[0m\u001B[0mpandas\u001B[0m\u001B[1;33m(\u001B[0m\u001B[1;33m)\u001B[0m\u001B[1;33m\u001B[0m\u001B[1;33m\u001B[0m\u001B[0m\n\u001B[1;32m--> 160\u001B[1;33m \u001B[0mgenerated_data\u001B[0m \u001B[1;33m=\u001B[0m \u001B[0mgenerated_rest\u001B[0m\u001B[1;33m.\u001B[0m\u001B[0mgroupby\u001B[0m\u001B[1;33m(\u001B[0m\u001B[1;34m'id'\u001B[0m\u001B[1;33m)\u001B[0m\u001B[1;33m.\u001B[0m\u001B[0mprogress_apply\u001B[0m\u001B[1;33m(\u001B[0m\u001B[0mgeneration\u001B[0m\u001B[1;33m)\u001B[0m\u001B[1;33m\u001B[0m\u001B[1;33m\u001B[0m\u001B[0m\n\u001B[0m\u001B[0;32m    161\u001B[0m \u001B[1;33m\u001B[0m\u001B[0m\n",
      "\u001B[1;32m~\\anaconda3\\envs\\et\\lib\\site-packages\\tqdm\\std.py\u001B[0m in \u001B[0;36minner\u001B[1;34m(df, func, *args, **kwargs)\u001B[0m\n\u001B[0;32m    765\u001B[0m                 \u001B[1;31m# on the df using our wrapper (which provides bar updating)\u001B[0m\u001B[1;33m\u001B[0m\u001B[1;33m\u001B[0m\u001B[1;33m\u001B[0m\u001B[0m\n\u001B[0;32m    766\u001B[0m                 \u001B[1;32mtry\u001B[0m\u001B[1;33m:\u001B[0m\u001B[1;33m\u001B[0m\u001B[1;33m\u001B[0m\u001B[0m\n\u001B[1;32m--> 767\u001B[1;33m                     \u001B[1;32mreturn\u001B[0m \u001B[0mgetattr\u001B[0m\u001B[1;33m(\u001B[0m\u001B[0mdf\u001B[0m\u001B[1;33m,\u001B[0m \u001B[0mdf_function\u001B[0m\u001B[1;33m)\u001B[0m\u001B[1;33m(\u001B[0m\u001B[0mwrapper\u001B[0m\u001B[1;33m,\u001B[0m \u001B[1;33m**\u001B[0m\u001B[0mkwargs\u001B[0m\u001B[1;33m)\u001B[0m\u001B[1;33m\u001B[0m\u001B[1;33m\u001B[0m\u001B[0m\n\u001B[0m\u001B[0;32m    768\u001B[0m                 \u001B[1;32mfinally\u001B[0m\u001B[1;33m:\u001B[0m\u001B[1;33m\u001B[0m\u001B[1;33m\u001B[0m\u001B[0m\n\u001B[0;32m    769\u001B[0m                     \u001B[0mt\u001B[0m\u001B[1;33m.\u001B[0m\u001B[0mclose\u001B[0m\u001B[1;33m(\u001B[0m\u001B[1;33m)\u001B[0m\u001B[1;33m\u001B[0m\u001B[1;33m\u001B[0m\u001B[0m\n",
      "\u001B[1;32m~\\anaconda3\\envs\\et\\lib\\site-packages\\pandas\\core\\groupby\\groupby.py\u001B[0m in \u001B[0;36mapply\u001B[1;34m(self, func, *args, **kwargs)\u001B[0m\n\u001B[0;32m    734\u001B[0m         \u001B[1;32mwith\u001B[0m \u001B[0moption_context\u001B[0m\u001B[1;33m(\u001B[0m\u001B[1;34m\"mode.chained_assignment\"\u001B[0m\u001B[1;33m,\u001B[0m \u001B[1;32mNone\u001B[0m\u001B[1;33m)\u001B[0m\u001B[1;33m:\u001B[0m\u001B[1;33m\u001B[0m\u001B[1;33m\u001B[0m\u001B[0m\n\u001B[0;32m    735\u001B[0m             \u001B[1;32mtry\u001B[0m\u001B[1;33m:\u001B[0m\u001B[1;33m\u001B[0m\u001B[1;33m\u001B[0m\u001B[0m\n\u001B[1;32m--> 736\u001B[1;33m                 \u001B[0mresult\u001B[0m \u001B[1;33m=\u001B[0m \u001B[0mself\u001B[0m\u001B[1;33m.\u001B[0m\u001B[0m_python_apply_general\u001B[0m\u001B[1;33m(\u001B[0m\u001B[0mf\u001B[0m\u001B[1;33m)\u001B[0m\u001B[1;33m\u001B[0m\u001B[1;33m\u001B[0m\u001B[0m\n\u001B[0m\u001B[0;32m    737\u001B[0m             \u001B[1;32mexcept\u001B[0m \u001B[0mTypeError\u001B[0m\u001B[1;33m:\u001B[0m\u001B[1;33m\u001B[0m\u001B[1;33m\u001B[0m\u001B[0m\n\u001B[0;32m    738\u001B[0m                 \u001B[1;31m# gh-20949\u001B[0m\u001B[1;33m\u001B[0m\u001B[1;33m\u001B[0m\u001B[1;33m\u001B[0m\u001B[0m\n",
      "\u001B[1;32m~\\anaconda3\\envs\\et\\lib\\site-packages\\pandas\\core\\groupby\\groupby.py\u001B[0m in \u001B[0;36m_python_apply_general\u001B[1;34m(self, f)\u001B[0m\n\u001B[0;32m    750\u001B[0m \u001B[1;33m\u001B[0m\u001B[0m\n\u001B[0;32m    751\u001B[0m     \u001B[1;32mdef\u001B[0m \u001B[0m_python_apply_general\u001B[0m\u001B[1;33m(\u001B[0m\u001B[0mself\u001B[0m\u001B[1;33m,\u001B[0m \u001B[0mf\u001B[0m\u001B[1;33m)\u001B[0m\u001B[1;33m:\u001B[0m\u001B[1;33m\u001B[0m\u001B[1;33m\u001B[0m\u001B[0m\n\u001B[1;32m--> 752\u001B[1;33m         \u001B[0mkeys\u001B[0m\u001B[1;33m,\u001B[0m \u001B[0mvalues\u001B[0m\u001B[1;33m,\u001B[0m \u001B[0mmutated\u001B[0m \u001B[1;33m=\u001B[0m \u001B[0mself\u001B[0m\u001B[1;33m.\u001B[0m\u001B[0mgrouper\u001B[0m\u001B[1;33m.\u001B[0m\u001B[0mapply\u001B[0m\u001B[1;33m(\u001B[0m\u001B[0mf\u001B[0m\u001B[1;33m,\u001B[0m \u001B[0mself\u001B[0m\u001B[1;33m.\u001B[0m\u001B[0m_selected_obj\u001B[0m\u001B[1;33m,\u001B[0m \u001B[0mself\u001B[0m\u001B[1;33m.\u001B[0m\u001B[0maxis\u001B[0m\u001B[1;33m)\u001B[0m\u001B[1;33m\u001B[0m\u001B[1;33m\u001B[0m\u001B[0m\n\u001B[0m\u001B[0;32m    753\u001B[0m \u001B[1;33m\u001B[0m\u001B[0m\n\u001B[0;32m    754\u001B[0m         return self._wrap_applied_output(\n",
      "\u001B[1;32m~\\anaconda3\\envs\\et\\lib\\site-packages\\pandas\\core\\groupby\\ops.py\u001B[0m in \u001B[0;36mapply\u001B[1;34m(self, f, data, axis)\u001B[0m\n\u001B[0;32m    204\u001B[0m             \u001B[1;31m# group might be modified\u001B[0m\u001B[1;33m\u001B[0m\u001B[1;33m\u001B[0m\u001B[1;33m\u001B[0m\u001B[0m\n\u001B[0;32m    205\u001B[0m             \u001B[0mgroup_axes\u001B[0m \u001B[1;33m=\u001B[0m \u001B[0mgroup\u001B[0m\u001B[1;33m.\u001B[0m\u001B[0maxes\u001B[0m\u001B[1;33m\u001B[0m\u001B[1;33m\u001B[0m\u001B[0m\n\u001B[1;32m--> 206\u001B[1;33m             \u001B[0mres\u001B[0m \u001B[1;33m=\u001B[0m \u001B[0mf\u001B[0m\u001B[1;33m(\u001B[0m\u001B[0mgroup\u001B[0m\u001B[1;33m)\u001B[0m\u001B[1;33m\u001B[0m\u001B[1;33m\u001B[0m\u001B[0m\n\u001B[0m\u001B[0;32m    207\u001B[0m             \u001B[1;32mif\u001B[0m \u001B[1;32mnot\u001B[0m \u001B[0m_is_indexed_like\u001B[0m\u001B[1;33m(\u001B[0m\u001B[0mres\u001B[0m\u001B[1;33m,\u001B[0m \u001B[0mgroup_axes\u001B[0m\u001B[1;33m)\u001B[0m\u001B[1;33m:\u001B[0m\u001B[1;33m\u001B[0m\u001B[1;33m\u001B[0m\u001B[0m\n\u001B[0;32m    208\u001B[0m                 \u001B[0mmutated\u001B[0m \u001B[1;33m=\u001B[0m \u001B[1;32mTrue\u001B[0m\u001B[1;33m\u001B[0m\u001B[1;33m\u001B[0m\u001B[0m\n",
      "\u001B[1;32m~\\anaconda3\\envs\\et\\lib\\site-packages\\tqdm\\std.py\u001B[0m in \u001B[0;36mwrapper\u001B[1;34m(*args, **kwargs)\u001B[0m\n\u001B[0;32m    760\u001B[0m                     \u001B[1;31m# take a fast or slow code path; so stop when t.total==t.n\u001B[0m\u001B[1;33m\u001B[0m\u001B[1;33m\u001B[0m\u001B[1;33m\u001B[0m\u001B[0m\n\u001B[0;32m    761\u001B[0m                     \u001B[0mt\u001B[0m\u001B[1;33m.\u001B[0m\u001B[0mupdate\u001B[0m\u001B[1;33m(\u001B[0m\u001B[0mn\u001B[0m\u001B[1;33m=\u001B[0m\u001B[1;36m1\u001B[0m \u001B[1;32mif\u001B[0m \u001B[1;32mnot\u001B[0m \u001B[0mt\u001B[0m\u001B[1;33m.\u001B[0m\u001B[0mtotal\u001B[0m \u001B[1;32mor\u001B[0m \u001B[0mt\u001B[0m\u001B[1;33m.\u001B[0m\u001B[0mn\u001B[0m \u001B[1;33m<\u001B[0m \u001B[0mt\u001B[0m\u001B[1;33m.\u001B[0m\u001B[0mtotal\u001B[0m \u001B[1;32melse\u001B[0m \u001B[1;36m0\u001B[0m\u001B[1;33m)\u001B[0m\u001B[1;33m\u001B[0m\u001B[1;33m\u001B[0m\u001B[0m\n\u001B[1;32m--> 762\u001B[1;33m                     \u001B[1;32mreturn\u001B[0m \u001B[0mfunc\u001B[0m\u001B[1;33m(\u001B[0m\u001B[1;33m*\u001B[0m\u001B[0margs\u001B[0m\u001B[1;33m,\u001B[0m \u001B[1;33m**\u001B[0m\u001B[0mkwargs\u001B[0m\u001B[1;33m)\u001B[0m\u001B[1;33m\u001B[0m\u001B[1;33m\u001B[0m\u001B[0m\n\u001B[0m\u001B[0;32m    763\u001B[0m \u001B[1;33m\u001B[0m\u001B[0m\n\u001B[0;32m    764\u001B[0m                 \u001B[1;31m# Apply the provided function (in **kwargs)\u001B[0m\u001B[1;33m\u001B[0m\u001B[1;33m\u001B[0m\u001B[1;33m\u001B[0m\u001B[0m\n",
      "\u001B[1;32m<ipython-input-11-38d27146cab7>\u001B[0m in \u001B[0;36mgeneration\u001B[1;34m(vehicle_rest)\u001B[0m\n\u001B[0;32m     50\u001B[0m \u001B[1;33m\u001B[0m\u001B[0m\n\u001B[0;32m     51\u001B[0m                 \u001B[0mmove_duration\u001B[0m \u001B[1;33m=\u001B[0m \u001B[0mp2d_transit_t\u001B[0m\u001B[1;33m.\u001B[0m\u001B[0mloc\u001B[0m\u001B[1;33m[\u001B[0m\u001B[0mload_hs\u001B[0m\u001B[1;33m,\u001B[0m \u001B[0mdrop_hs\u001B[0m\u001B[1;33m]\u001B[0m\u001B[1;33m\u001B[0m\u001B[1;33m\u001B[0m\u001B[0m\n\u001B[1;32m---> 52\u001B[1;33m                 \u001B[0mmove_distance\u001B[0m \u001B[1;33m=\u001B[0m \u001B[0mp2d_distance\u001B[0m\u001B[1;33m[\u001B[0m\u001B[0mload_hs\u001B[0m\u001B[1;33m,\u001B[0m \u001B[0mdrop_hs\u001B[0m\u001B[1;33m]\u001B[0m\u001B[1;33m\u001B[0m\u001B[1;33m\u001B[0m\u001B[0m\n\u001B[0m\u001B[0;32m     53\u001B[0m \u001B[1;33m\u001B[0m\u001B[0m\n\u001B[0;32m     54\u001B[0m                 \u001B[1;31m# Advance time and distance\u001B[0m\u001B[1;33m\u001B[0m\u001B[1;33m\u001B[0m\u001B[1;33m\u001B[0m\u001B[0m\n",
      "\u001B[1;32m~\\anaconda3\\envs\\et\\lib\\site-packages\\pandas\\core\\series.py\u001B[0m in \u001B[0;36m__getitem__\u001B[1;34m(self, key)\u001B[0m\n\u001B[0;32m    908\u001B[0m             \u001B[0mkey\u001B[0m \u001B[1;33m=\u001B[0m \u001B[0mcheck_bool_indexer\u001B[0m\u001B[1;33m(\u001B[0m\u001B[0mself\u001B[0m\u001B[1;33m.\u001B[0m\u001B[0mindex\u001B[0m\u001B[1;33m,\u001B[0m \u001B[0mkey\u001B[0m\u001B[1;33m)\u001B[0m\u001B[1;33m\u001B[0m\u001B[1;33m\u001B[0m\u001B[0m\n\u001B[0;32m    909\u001B[0m \u001B[1;33m\u001B[0m\u001B[0m\n\u001B[1;32m--> 910\u001B[1;33m         \u001B[1;32mreturn\u001B[0m \u001B[0mself\u001B[0m\u001B[1;33m.\u001B[0m\u001B[0m_get_with\u001B[0m\u001B[1;33m(\u001B[0m\u001B[0mkey\u001B[0m\u001B[1;33m)\u001B[0m\u001B[1;33m\u001B[0m\u001B[1;33m\u001B[0m\u001B[0m\n\u001B[0m\u001B[0;32m    911\u001B[0m \u001B[1;33m\u001B[0m\u001B[0m\n\u001B[0;32m    912\u001B[0m     \u001B[1;32mdef\u001B[0m \u001B[0m_get_with\u001B[0m\u001B[1;33m(\u001B[0m\u001B[0mself\u001B[0m\u001B[1;33m,\u001B[0m \u001B[0mkey\u001B[0m\u001B[1;33m)\u001B[0m\u001B[1;33m:\u001B[0m\u001B[1;33m\u001B[0m\u001B[1;33m\u001B[0m\u001B[0m\n",
      "\u001B[1;32m~\\anaconda3\\envs\\et\\lib\\site-packages\\pandas\\core\\series.py\u001B[0m in \u001B[0;36m_get_with\u001B[1;34m(self, key)\u001B[0m\n\u001B[0;32m    921\u001B[0m         \u001B[1;32melif\u001B[0m \u001B[0misinstance\u001B[0m\u001B[1;33m(\u001B[0m\u001B[0mkey\u001B[0m\u001B[1;33m,\u001B[0m \u001B[0mtuple\u001B[0m\u001B[1;33m)\u001B[0m\u001B[1;33m:\u001B[0m\u001B[1;33m\u001B[0m\u001B[1;33m\u001B[0m\u001B[0m\n\u001B[0;32m    922\u001B[0m             \u001B[1;32mtry\u001B[0m\u001B[1;33m:\u001B[0m\u001B[1;33m\u001B[0m\u001B[1;33m\u001B[0m\u001B[0m\n\u001B[1;32m--> 923\u001B[1;33m                 \u001B[1;32mreturn\u001B[0m \u001B[0mself\u001B[0m\u001B[1;33m.\u001B[0m\u001B[0m_get_values_tuple\u001B[0m\u001B[1;33m(\u001B[0m\u001B[0mkey\u001B[0m\u001B[1;33m)\u001B[0m\u001B[1;33m\u001B[0m\u001B[1;33m\u001B[0m\u001B[0m\n\u001B[0m\u001B[0;32m    924\u001B[0m             \u001B[1;32mexcept\u001B[0m \u001B[0mValueError\u001B[0m\u001B[1;33m:\u001B[0m\u001B[1;33m\u001B[0m\u001B[1;33m\u001B[0m\u001B[0m\n\u001B[0;32m    925\u001B[0m                 \u001B[1;31m# if we don't have a MultiIndex, we may still be able to handle\u001B[0m\u001B[1;33m\u001B[0m\u001B[1;33m\u001B[0m\u001B[1;33m\u001B[0m\u001B[0m\n",
      "\u001B[1;32m~\\anaconda3\\envs\\et\\lib\\site-packages\\pandas\\core\\series.py\u001B[0m in \u001B[0;36m_get_values_tuple\u001B[1;34m(self, key)\u001B[0m\n\u001B[0;32m    975\u001B[0m \u001B[1;33m\u001B[0m\u001B[0m\n\u001B[0;32m    976\u001B[0m         \u001B[1;31m# If key is contained, would have returned by now\u001B[0m\u001B[1;33m\u001B[0m\u001B[1;33m\u001B[0m\u001B[1;33m\u001B[0m\u001B[0m\n\u001B[1;32m--> 977\u001B[1;33m         \u001B[0mindexer\u001B[0m\u001B[1;33m,\u001B[0m \u001B[0mnew_index\u001B[0m \u001B[1;33m=\u001B[0m \u001B[0mself\u001B[0m\u001B[1;33m.\u001B[0m\u001B[0mindex\u001B[0m\u001B[1;33m.\u001B[0m\u001B[0mget_loc_level\u001B[0m\u001B[1;33m(\u001B[0m\u001B[0mkey\u001B[0m\u001B[1;33m)\u001B[0m\u001B[1;33m\u001B[0m\u001B[1;33m\u001B[0m\u001B[0m\n\u001B[0m\u001B[0;32m    978\u001B[0m         return self._constructor(self._values[indexer], index=new_index).__finalize__(\n\u001B[0;32m    979\u001B[0m             \u001B[0mself\u001B[0m\u001B[1;33m\u001B[0m\u001B[1;33m\u001B[0m\u001B[0m\n",
      "\u001B[1;32m~\\anaconda3\\envs\\et\\lib\\site-packages\\pandas\\core\\indexes\\multi.py\u001B[0m in \u001B[0;36mget_loc_level\u001B[1;34m(self, key, level, drop_level)\u001B[0m\n\u001B[0;32m   2814\u001B[0m                         \u001B[1;32mreturn\u001B[0m \u001B[1;33m(\u001B[0m\u001B[0mself\u001B[0m\u001B[1;33m.\u001B[0m\u001B[0m_engine\u001B[0m\u001B[1;33m.\u001B[0m\u001B[0mget_loc\u001B[0m\u001B[1;33m(\u001B[0m\u001B[0mkey\u001B[0m\u001B[1;33m)\u001B[0m\u001B[1;33m,\u001B[0m \u001B[1;32mNone\u001B[0m\u001B[1;33m)\u001B[0m\u001B[1;33m\u001B[0m\u001B[1;33m\u001B[0m\u001B[0m\n\u001B[0;32m   2815\u001B[0m                     \u001B[1;32mexcept\u001B[0m \u001B[0mKeyError\u001B[0m \u001B[1;32mas\u001B[0m \u001B[0me\u001B[0m\u001B[1;33m:\u001B[0m\u001B[1;33m\u001B[0m\u001B[1;33m\u001B[0m\u001B[0m\n\u001B[1;32m-> 2816\u001B[1;33m                         \u001B[1;32mraise\u001B[0m \u001B[0mKeyError\u001B[0m\u001B[1;33m(\u001B[0m\u001B[0mkey\u001B[0m\u001B[1;33m)\u001B[0m \u001B[1;32mfrom\u001B[0m \u001B[0me\u001B[0m\u001B[1;33m\u001B[0m\u001B[1;33m\u001B[0m\u001B[0m\n\u001B[0m\u001B[0;32m   2817\u001B[0m                 \u001B[1;32melse\u001B[0m\u001B[1;33m:\u001B[0m\u001B[1;33m\u001B[0m\u001B[1;33m\u001B[0m\u001B[0m\n\u001B[0;32m   2818\u001B[0m                     \u001B[1;32mreturn\u001B[0m \u001B[0mpartial_selection\u001B[0m\u001B[1;33m(\u001B[0m\u001B[0mkey\u001B[0m\u001B[1;33m)\u001B[0m\u001B[1;33m\u001B[0m\u001B[1;33m\u001B[0m\u001B[0m\n",
      "\u001B[1;31mKeyError\u001B[0m: (137, 168)"
     ]
    }
   ],
   "source": [
    "def generation(vehicle_rest):\n",
    "#     if vehicle_rest.name > 3:\n",
    "#         return\n",
    "    \n",
    "    # Initializaiton\n",
    "    time_interval = timedelta(minutes=20)\n",
    "    traveled_distance = 0\n",
    "    start_timestamp = datetime(2014, 7, 1)\n",
    "    current_timestamp = datetime(2014, 7, 1)\n",
    "\n",
    "    generated_od = pd.DataFrame(\n",
    "    columns=['licence', 'begin_time', 'end_time', 'load_hotspot', 'drop_hotspot', 'od_distance',\n",
    "             'traveled_from_charged', 'to_charge', 'cs_index', 'cs_name'])\n",
    "\n",
    "    for _, row in vehicle_rest.iterrows():\n",
    "        if row['begin_hour'] == -1:\n",
    "            row['begin_hour'] = 24\n",
    "            row['rest_length'] = 0\n",
    "        if current_timestamp > start_timestamp + timedelta(days=row['day'], hours=row['begin_hour']):\n",
    "            status = 'rest'\n",
    "        else:\n",
    "            status = 'occupied'\n",
    "            temp_distribution = departure_distributions[current_timestamp.hour]\n",
    "            load_hs = temp_distribution.sample(1, weights=temp_distribution).index[0]\n",
    "        while True:\n",
    "            if 'occupied' == status:\n",
    "                # Get time interval\n",
    "                window_index = (current_timestamp.hour * 3600 + current_timestamp.minute * 60) // time_interval.seconds\n",
    "                # 根据时间窗口取转移矩阵\n",
    "                p2d_transit = p2d[window_index]\n",
    "                p2d_transit_t = p2d_t[window_index]\n",
    "\n",
    "                # if pick-up hot spot in p2d matrix\n",
    "                if load_hs not in p2d_transit.index:\n",
    "                    # 寻找离当前出发hotspots最近的，有转移分布的hotspots作为替代出发hotspots\n",
    "                    # select load hot spots geodetic coordinates\n",
    "                    load_hotspots_loc = p_hs[['latitude', 'longitude']].values\n",
    "                    # select coordinates of hot spots that have drop distribution\n",
    "                    valid_load_hotspots_loc = load_hotspots_loc[p_hs.loc[p_hs['id'].isin(p2d_transit.index)].index]\n",
    "                    # original load hot spot geodetic coordinate\n",
    "                    load_offset = p_hs.loc[p_hs['id'] == load_hs].index[0]\n",
    "                    loc_a = p_hs.loc[[load_offset], ['latitude', 'longitude']].values\n",
    "                    # select nearest load hot spot\n",
    "                    nearest_offset = haversine_distances(np.radians(loc_a), np.radians(valid_load_hotspots_loc)).argmin()\n",
    "                    load_hs = p_hs.loc[p_hs['id'].isin(p2d_transit.index), 'id'].iloc[nearest_offset]\n",
    "                \n",
    "                transit_distribution = p2d_transit.loc[load_hs]\n",
    "                # select drop hotsopt by load hotspot and transit matrix\n",
    "                drop_hs = transit_distribution.sample(1, weights=transit_distribution).index[0]\n",
    "                \n",
    "                move_duration = p2d_transit_t.loc[load_hs, drop_hs]\n",
    "                move_distance = p2d_distance[load_hs, drop_hs]\n",
    "                \n",
    "                # Advance time and distance\n",
    "                current_timestamp += timedelta(seconds=move_duration)\n",
    "                traveled_distance += move_distance\n",
    "#                 print(vehicle_rest.name, current_timestamp, 'p2d', load_hs, drop_hs, 'travel', move_distance)\n",
    "                pre_status='occupied'\n",
    "                status='empty'\n",
    "            elif 'empty' == status:\n",
    "                # First predict charging behavior\n",
    "                if 'occupied' == pre_status:\n",
    "                    d_offset = d_hs.loc[d_hs['id'] == drop_hs].index[0]\n",
    "                    loc_d = d_hs.loc[[d_offset], ['latitude', 'longitude']].values\n",
    "                    AVG_EARTH_RADIUS = 6371.0088\n",
    "                    distances_to_cs = haversine_distances(np.radians(loc_d), np.radians(cs_location)) * AVG_EARTH_RADIUS\n",
    "                    time_of_day = current_timestamp.hour + current_timestamp.minute / 60 + current_timestamp.second / 3600\n",
    "\n",
    "                    whether_charge_features = [traveled_distance, distances_to_cs.min(), np.median(distances_to_cs), \n",
    "                                               distances_to_cs.mean(), distances_to_cs.max(), time_of_day]\n",
    "                    whether_charge_features_scaled = whether_charge_scaler.transform(np.reshape(whether_charge_features, \n",
    "                                                                                                (1, -1)))\n",
    "                    to_charge = wtc_model.predict(whether_charge_features_scaled)\n",
    "#                         columns=['licence', 'begin_time', 'end_time', 'load_hotspot', 'drop_hotspot', 'od_distance',\n",
    "#              'traveled_from_charged', 'to_charge', 'cs_index', 'cs_name'])\n",
    "                    if to_charge:\n",
    "#                         print('\\nCharge', vehicle_rest.name, current_timestamp)\n",
    "#                         print('Time of day:', time_of_day, 'Dis_min:', distances_to_cs.min(), \n",
    "#                               'Dis_max:', distances_to_cs.max(), 'Dis_mean:', distances_to_cs.mean(),\n",
    "#                               'Dis_mid:', np.median(distances_to_cs), 'Traveled:', traveled_distance)\n",
    "                        status = 'charging'\n",
    "                        continue\n",
    "                    else:\n",
    "                        # Generate data\n",
    "                        record = [vehicle_rest.name, current_timestamp - timedelta(seconds=move_duration),\n",
    "                                  current_timestamp, load_hs, drop_hs, move_distance, traveled_distance, \n",
    "                                  to_charge[0], None, None]\n",
    "                        generated_od.loc[generated_od.shape[0]] = record\n",
    "                if current_timestamp > start_timestamp + timedelta(days=row['day'], hours=row['begin_hour']):\n",
    "                    status = 'rest'\n",
    "                else:\n",
    "                    # Get time interval\n",
    "                    window_index = (current_timestamp.hour * 3600 + current_timestamp.minute * 60) // time_interval.seconds\n",
    "                    # 根据时间窗口取转移矩阵\n",
    "                    d2p_transit = d2p[window_index]\n",
    "                    d2p_transit_t = d2p_t[window_index]\n",
    "\n",
    "                    # if drop-off hot spot in d2p matrix\n",
    "                    if (drop_hs not in d2p_transit.index) or ():\n",
    "                        # 寻找离当前drop hotspots最近的，有转移分布的hotspot作为替代drop hotspot\n",
    "                        # select drop-off hot spots geodetic coordinates\n",
    "                        drop_hotspots_loc = d_hs[['latitude', 'longitude']].values\n",
    "                        # select coordinates of hot spots that have load distribution\n",
    "                        valid_drop_hotspots_loc = drop_hotspots_loc[d_hs.loc[d_hs['id'].isin(d2p_transit.index)].index]\n",
    "                        # original drop hot spot geodetic coordinate\n",
    "                        d_offset = d_hs.loc[d_hs['id'] == drop_hs].index[0]\n",
    "                        loc_a = d_hs.loc[[d_offset], ['latitude', 'longitude']].values\n",
    "                        # select nearest drop hot spot\n",
    "                        nearest_offset = haversine_distances(np.radians(loc_a), \n",
    "                                                             np.radians(valid_drop_hotspots_loc)).argmin()\n",
    "                        drop_hs = d_hs.loc[d_hs['id'].isin(d2p_transit.index), 'id'].iloc[nearest_offset]\n",
    "                    transit_distribution = d2p_transit.loc[drop_hs]\n",
    "                    # select load hotsopt by drop hotspot and transit matrix\n",
    "\n",
    "                    load_hs = transit_distribution.sample(1, weights=transit_distribution).index[0]\n",
    "                    move_duration = d2p_transit_t.loc[drop_hs, load_hs]\n",
    "                    move_distance = d2p_distance[drop_hs, load_hs]\n",
    "                    # Advance time and distance\n",
    "                    current_timestamp += timedelta(seconds=move_duration)\n",
    "                    traveled_distance += move_distance\n",
    "#                         print(vehicle_rest.name, current_timestamp, 'd2p', drop_hs, load_hs, 'travel', move_distance)\n",
    "                    status='occupied'\n",
    "            elif 'charging' == status:\n",
    "                where_charge_features = pd.DataFrame(index=range(23))\n",
    "#                 [traveled_distance, distances_to_cs.min(), np.median(distances_to_cs), \n",
    "#                                                distances_to_cs.mean(), distances_to_cs.max(), time_of_day]\n",
    "                where_charge_features['max_dis'] = distances_to_cs.max()\n",
    "                where_charge_features['mean_dis'] = distances_to_cs.mean()\n",
    "                where_charge_features['mid_dis'] = np.median(distances_to_cs)\n",
    "                where_charge_features['min_dis'] = distances_to_cs.min()\n",
    "                where_charge_features['traveled_after_charged'] = traveled_distance\n",
    "                where_charge_features['distance'] = distances_to_cs.reshape((-1))\n",
    "                where_charge_features['weekday'] = 1 if current_timestamp.weekday() < 5 else 0\n",
    "                where_charge_features['time_of_day'] = time_of_day\n",
    "                where_charge_features['chg_points'] = df_cs['chg_points']\n",
    "                data = torch.from_numpy(where_charge_features.to_numpy()).to(device).float()\n",
    "                data = data.view(-1, 23, len(where_charge_features.columns))\n",
    "                output = model(data)\n",
    "                \n",
    "                output = softmax(output).view(-1).cpu().detach().numpy()\n",
    "                station_index = np.random.choice(len(output), 1, p=output).item()\n",
    "                \n",
    "#                 print('CS:', df_cs.loc[station_index, 'cs_name'], 'probability:', output[station_index])\n",
    "                # Generate data\n",
    "                record = [vehicle_rest.name, current_timestamp - timedelta(seconds=move_duration),\n",
    "                          current_timestamp, load_hs, drop_hs, move_distance, traveled_distance, to_charge[0], station_index, \n",
    "                          df_cs.loc[station_index, 'cs_name']]\n",
    "                generated_od.loc[generated_od.shape[0]] = record\n",
    "                current_timestamp += timedelta(hours=1.5)\n",
    "                pre_status = 'charging'\n",
    "                traveled_distance = 0\n",
    "                status = 'empty'\n",
    "            elif 'rest' == status:\n",
    "#                 print('rest', current_timestamp)\n",
    "                current_timestamp += timedelta(hours=row['rest_length'])\n",
    "                break\n",
    "    return generated_od\n",
    "\n",
    "tqdm.pandas()\n",
    "generated_data = generated_rest.groupby('id').progress_apply(generation)"
   ]
  },
  {
   "cell_type": "code",
   "execution_count": null,
   "metadata": {},
   "outputs": [],
   "source": [
    "generated_data.to_csv('generated_data/generated_data_v4.csv', index=False)"
   ]
  }
 ],
 "metadata": {
  "kernelspec": {
   "name": "et",
   "language": "python",
   "display_name": "Python (et)"
  },
  "language_info": {
   "codemirror_mode": {
    "name": "ipython",
    "version": 3
   },
   "file_extension": ".py",
   "mimetype": "text/x-python",
   "name": "python",
   "nbconvert_exporter": "python",
   "pygments_lexer": "ipython3",
   "version": "3.7.5"
  }
 },
 "nbformat": 4,
 "nbformat_minor": 2
}