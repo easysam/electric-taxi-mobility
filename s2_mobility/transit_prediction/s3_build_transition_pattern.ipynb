{
 "cells": [
  {
   "cell_type": "code",
   "execution_count": 1,
   "metadata": {
    "collapsed": true
   },
   "outputs": [],
   "source": [
    "import os\n",
    "import yaml\n",
    "import pandas as pd\n",
    "import numpy as np\n",
    "from sklearn.metrics.pairwise import haversine_distances\n",
    "\n",
    "from utils import display\n",
    "from s1_preprocessing.hotspot.hotpots_discovery_utils import cube_to_coordinate"
   ]
  },
  {
   "cell_type": "code",
   "execution_count": 2,
   "outputs": [],
   "source": [
    "def find_nearest_cube(targets, candidates):\n",
    "    t_lng, t_lat = cube_to_coordinate(targets, to_geodetic=True, m=100, n=200)\n",
    "    t_loc = np.concatenate((t_lat.reshape(-1, 1), t_lng.reshape(-1, 1)), axis=1)\n",
    "    c_lng, c_lat = cube_to_coordinate(candidates, to_geodetic=True, m=100, n=200)\n",
    "    c_loc = np.concatenate((c_lat.reshape(-1, 1), c_lng.reshape(-1, 1)), axis=1)\n",
    "    nearest_idx = haversine_distances(np.radians(t_loc), np.radians(c_loc)).argmin(axis=1)\n",
    "    return nearest_idx"
   ],
   "metadata": {
    "collapsed": false,
    "pycharm": {
     "name": "#%%\n"
    }
   }
  },
  {
   "cell_type": "code",
   "execution_count": 3,
   "outputs": [],
   "source": [
    "def matrix_completion(missing_cube, raw_mat):\n",
    "    missing_cube_nearest = find_nearest_cube(missing_cube, np.array(raw_mat.index.tolist()))\n",
    "    supplement_cube = raw_mat.iloc[missing_cube_nearest]\n",
    "    supplement_cube.set_index(missing_cube.astype(dtype=int), inplace=True)\n",
    "    completion_mat = pd.concat([raw_mat, supplement_cube])\n",
    "    return completion_mat"
   ],
   "metadata": {
    "collapsed": false,
    "pycharm": {
     "name": "#%%\n"
    }
   }
  },
  {
   "cell_type": "code",
   "execution_count": 4,
   "outputs": [],
   "source": [
    "# configure the working directory to the project root path\n",
    "with open(\"../../config.yaml\", \"r\", encoding=\"utf8\") as f:\n",
    "    conf = yaml.load(f, Loader=yaml.FullLoader)\n",
    "os.chdir(conf[\"project_path\"])"
   ],
   "metadata": {
    "collapsed": false,
    "pycharm": {
     "name": "#%%\n"
    }
   }
  },
  {
   "cell_type": "code",
   "execution_count": 5,
   "outputs": [],
   "source": [
    "p2d_raw_prob_mat = pd.read_csv(conf['mobility']['transition']['utility_xgboost']['p2d']['prob_mat_incomplete'],\n",
    "                                   index_col=0)\n",
    "d2p_raw_prob_mat = pd.read_csv(conf['mobility']['transition']['utility_xgboost']['d2p']['prob_mat_incomplete'],\n",
    "                               index_col=0)\n",
    "p_in_p2d = set(p2d_raw_prob_mat.index.tolist())\n",
    "d_in_p2d = set(p2d_raw_prob_mat.columns.astype(dtype=int).tolist())\n",
    "d_in_d2p = set(d2p_raw_prob_mat.index.tolist())\n",
    "p_in_d2p = set(d2p_raw_prob_mat.columns.astype(dtype=int).tolist())\n",
    "\n",
    "missing_p = np.array(list(p_in_d2p - p_in_p2d), dtype=np.float32)\n",
    "p2d_prob_mat = matrix_completion(missing_p, p2d_raw_prob_mat)\n",
    "\n",
    "missing_d = np.array(list(d_in_p2d - d_in_d2p), dtype=np.float32)\n",
    "d2p_prob_mat = matrix_completion(missing_d, d2p_raw_prob_mat)"
   ],
   "metadata": {
    "collapsed": false,
    "pycharm": {
     "name": "#%%\n"
    }
   }
  },
  {
   "cell_type": "code",
   "execution_count": 6,
   "outputs": [],
   "source": [
    "orig_idx_a, dest_idx_a = np.nonzero(p2d_prob_mat.to_numpy())\n",
    "orig_idx_b, dest_idx_b = np.nonzero(d2p_prob_mat.to_numpy())\n",
    "orig_cube_a, dest_cube_a = p2d_prob_mat.index[orig_idx_a], p2d_prob_mat.columns[dest_idx_a].astype(dtype=int)\n",
    "orig_cube_b, dest_cube_b = d2p_prob_mat.index[orig_idx_b], d2p_prob_mat.columns[dest_idx_b].astype(dtype=int)\n",
    "orig_cube = np.concatenate((orig_cube_a, orig_cube_b)).reshape(-1, 1)\n",
    "dest_cube = np.concatenate((dest_cube_a, dest_cube_b)).reshape(-1, 1)\n",
    "transition_cost = pd.DataFrame(np.concatenate((orig_cube, dest_cube), axis=1), columns=['o_cube', 'd_cube'])\n",
    "transition_cost.drop_duplicates(inplace=True, ignore_index=True)"
   ],
   "metadata": {
    "collapsed": false,
    "pycharm": {
     "name": "#%%\n"
    }
   }
  },
  {
   "cell_type": "code",
   "execution_count": 22,
   "outputs": [
    {
     "name": "stderr",
     "output_type": "stream",
     "text": [
      "100%|██████████| 100/100 [00:46<00:00,  2.17it/s]\n"
     ]
    },
    {
     "data": {
      "text/plain": "0     2733.0\n1      605.9\n2     1540.8\n3     1791.0\n4     2286.5\n       ...  \n95    3231.1\n96    2130.6\n97    1516.1\n98    3071.3\n99    1716.2\nLength: 100, dtype: float64"
     },
     "execution_count": 22,
     "metadata": {},
     "output_type": "execute_result"
    }
   ],
   "source": [
    "import dask.dataframe as dd\n",
    "from dask.diagnostics import ProgressBar\n",
    "from multiprocessing.dummy import Pool as ThreadPool\n",
    "from tqdm import tqdm\n",
    "tqdm.pandas()\n",
    "transition_cost['o_lng'], transition_cost['o_lat'] =  cube_to_coordinate(transition_cost['o_cube'], to_geodetic=True, m=100, n=200)\n",
    "transition_cost['d_lng'], transition_cost['d_lat'] =  cube_to_coordinate(transition_cost['d_cube'], to_geodetic=True, m=100, n=200)\n",
    "temp_df = transition_cost.iloc[:100]\n",
    "dd_tran_cost = dd.from_pandas(temp_df, npartitions=4)\n",
    "import json\n",
    "import urllib.request\n",
    "def fetch_cost(transition):\n",
    "    _a, _b, _c, _d = transition[['o_lng', 'o_lat', 'd_lng', 'd_lat']]\n",
    "    contents = urllib.request.urlopen(\n",
    "        \"http://router.project-osrm.org/route/v1/driving/{},{};{},{}?overview=false\".format(_a, _b, _c, _d)\n",
    "    ).read()\n",
    "    my_json = contents.decode('utf8').replace(\"'\", '\"')\n",
    "    dis = json.loads(my_json)['routes'][0]['distance']\n",
    "    duration = json.loads(my_json)['routes'][0]['duration']\n",
    "    return dis\n",
    "# with ProgressBar():\n",
    "#     dd_tran_cost.apply(fetch_cost, axis=1, meta=pd.Series(dtype='float', name='test')).compute()\n",
    "temp_df.progress_apply(fetch_cost, axis=1)"
   ],
   "metadata": {
    "collapsed": false,
    "pycharm": {
     "name": "#%%\n"
    }
   }
  },
  {
   "cell_type": "code",
   "execution_count": 24,
   "outputs": [
    {
     "name": "stdout",
     "output_type": "stream",
     "text": [
      "Wall time: 40 s\n"
     ]
    }
   ],
   "source": [
    "%%time\n",
    "from multiprocessing.dummy import Pool as ThreadPool\n",
    "transition_cost['o_lng'], transition_cost['o_lat'] =  cube_to_coordinate(transition_cost['o_cube'], to_geodetic=True, m=100, n=200)\n",
    "transition_cost['d_lng'], transition_cost['d_lat'] =  cube_to_coordinate(transition_cost['d_cube'], to_geodetic=True, m=100, n=200)\n",
    "\n",
    "import json\n",
    "import urllib.request\n",
    "def make_url(transition):\n",
    "    _a, _b, _c, _d = transition[['o_lng', 'o_lat', 'd_lng', 'd_lat']]\n",
    "    url = \"http://router.project-osrm.org/route/v1/driving/{},{};{},{}?overview=false\".format(_a, _b, _c, _d)\n",
    "    return url\n",
    "# with ProgressBar():\n",
    "#     dd_tran_cost.apply(fetch_cost, axis=1, meta=pd.Series(dtype='float', name='test')).compute()\n",
    "ar = transition_cost.apply(make_url, axis=1).to_list()\n",
    "pool = ThreadPool(10)\n",
    "results = pool.map(lambda x: json.loads(urllib.request.urlopen(x).read().decode('utf8').replace(\"'\", '\"'))['routes'][0], ar)"
   ],
   "metadata": {
    "collapsed": false,
    "pycharm": {
     "name": "#%%\n"
    }
   }
  },
  {
   "cell_type": "code",
   "execution_count": 30,
   "outputs": [],
   "source": [
    "transition_cost['distance'], transition_cost['duration'] = pd.DataFrame(results)['distance'], pd.DataFrame(results)['duration']"
   ],
   "metadata": {
    "collapsed": false,
    "pycharm": {
     "name": "#%%\n"
    }
   }
  }
 ],
 "metadata": {
  "kernelspec": {
   "display_name": "Python 3",
   "language": "python",
   "name": "python3"
  },
  "language_info": {
   "codemirror_mode": {
    "name": "ipython",
    "version": 2
   },
   "file_extension": ".py",
   "mimetype": "text/x-python",
   "name": "python",
   "nbconvert_exporter": "python",
   "pygments_lexer": "ipython2",
   "version": "2.7.6"
  }
 },
 "nbformat": 4,
 "nbformat_minor": 0
}