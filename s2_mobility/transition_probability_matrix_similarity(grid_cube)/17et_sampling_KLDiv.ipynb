{
 "cells": [
  {
   "cell_type": "code",
   "execution_count": 1,
   "metadata": {
    "collapsed": true
   },
   "outputs": [],
   "source": [
    "import os\n",
    "import yaml\n",
    "import pandas as pd\n",
    "from tqdm import tqdm\n",
    "from sklearn.preprocessing import MinMaxScaler, normalize\n",
    "from utils import display, od_utils\n",
    "from s1_preprocessing.hotspot.hotpots_discovery_utils import generate_cube_index\n",
    "from s2_mobility.transit_prediction.s2_utility_XGBoost_train import kl"
   ]
  },
  {
   "cell_type": "code",
   "execution_count": 2,
   "outputs": [
    {
     "name": "stdout",
     "output_type": "stream",
     "text": [
      "0.01 3.010456053087922\n",
      "0.02 2.7316930315679735\n",
      "0.03 2.5094032533545825\n",
      "0.04 2.2873189176619446\n",
      "0.05 2.05800415300236\n",
      "0.06 1.8763544344174203\n",
      "0.07 1.7650737516938644\n",
      "0.08 1.6052279604936017\n",
      "0.09 1.4905850967239467\n",
      "0.1 1.3766550823672727\n",
      "0.11 1.2919310644501505\n",
      "0.12 1.1854184381619832\n",
      "0.13 1.1250213900044064\n",
      "0.14 0.999368366401149\n",
      "0.15 0.9894993608875974\n",
      "0.16 0.9115013322693538\n",
      "0.17 0.8909573485801372\n",
      "0.18 0.8151217752087035\n",
      "0.19 0.7659345447807703\n",
      "0.2 0.7532601680240706\n",
      "0.21 0.7172117775235208\n"
     ]
    },
    {
     "ename": "KeyboardInterrupt",
     "evalue": "",
     "output_type": "error",
     "traceback": [
      "\u001B[1;31m---------------------------------------------------------------------------\u001B[0m",
      "\u001B[1;31mKeyboardInterrupt\u001B[0m                         Traceback (most recent call last)",
      "\u001B[1;32m<ipython-input-2-7fa3335577cb>\u001B[0m in \u001B[0;36m<module>\u001B[1;34m\u001B[0m\n\u001B[0;32m     16\u001B[0m     \u001B[0mod_sample\u001B[0m \u001B[1;33m=\u001B[0m \u001B[0mod\u001B[0m\u001B[1;33m.\u001B[0m\u001B[0msample\u001B[0m\u001B[1;33m(\u001B[0m\u001B[0mfrac\u001B[0m\u001B[1;33m=\u001B[0m\u001B[0mpercentage\u001B[0m\u001B[1;33m)\u001B[0m\u001B[1;33m\u001B[0m\u001B[1;33m\u001B[0m\u001B[0m\n\u001B[0;32m     17\u001B[0m     \u001B[0mdemand\u001B[0m \u001B[1;33m=\u001B[0m \u001B[0mod_sample\u001B[0m\u001B[1;33m.\u001B[0m\u001B[0mgroupby\u001B[0m\u001B[1;33m(\u001B[0m\u001B[1;33m[\u001B[0m\u001B[1;34m'original_cube'\u001B[0m\u001B[1;33m,\u001B[0m \u001B[1;34m'destination_cube'\u001B[0m\u001B[1;33m]\u001B[0m\u001B[1;33m)\u001B[0m\u001B[1;33m.\u001B[0m\u001B[0msize\u001B[0m\u001B[1;33m(\u001B[0m\u001B[1;33m)\u001B[0m\u001B[1;33m.\u001B[0m\u001B[0mrename\u001B[0m\u001B[1;33m(\u001B[0m\u001B[1;34m'sample'\u001B[0m\u001B[1;33m)\u001B[0m\u001B[1;33m\u001B[0m\u001B[1;33m\u001B[0m\u001B[0m\n\u001B[1;32m---> 18\u001B[1;33m     all_and_sample = pd.merge(od_pairs_demand, demand,\n\u001B[0m\u001B[0;32m     19\u001B[0m                               \u001B[0mhow\u001B[0m\u001B[1;33m=\u001B[0m\u001B[1;34m'left'\u001B[0m\u001B[1;33m,\u001B[0m\u001B[1;33m\u001B[0m\u001B[1;33m\u001B[0m\u001B[0m\n\u001B[0;32m     20\u001B[0m                               left_on=['original_cube', 'destination_cube'], right_index=True).fillna(0.0001)\n",
      "\u001B[1;32m~\\Anaconda3\\envs\\et\\lib\\site-packages\\pandas\\core\\reshape\\merge.py\u001B[0m in \u001B[0;36mmerge\u001B[1;34m(left, right, how, on, left_on, right_on, left_index, right_index, sort, suffixes, copy, indicator, validate)\u001B[0m\n\u001B[0;32m     87\u001B[0m         \u001B[0mvalidate\u001B[0m\u001B[1;33m=\u001B[0m\u001B[0mvalidate\u001B[0m\u001B[1;33m,\u001B[0m\u001B[1;33m\u001B[0m\u001B[1;33m\u001B[0m\u001B[0m\n\u001B[0;32m     88\u001B[0m     )\n\u001B[1;32m---> 89\u001B[1;33m     \u001B[1;32mreturn\u001B[0m \u001B[0mop\u001B[0m\u001B[1;33m.\u001B[0m\u001B[0mget_result\u001B[0m\u001B[1;33m(\u001B[0m\u001B[1;33m)\u001B[0m\u001B[1;33m\u001B[0m\u001B[1;33m\u001B[0m\u001B[0m\n\u001B[0m\u001B[0;32m     90\u001B[0m \u001B[1;33m\u001B[0m\u001B[0m\n\u001B[0;32m     91\u001B[0m \u001B[1;33m\u001B[0m\u001B[0m\n",
      "\u001B[1;32m~\\Anaconda3\\envs\\et\\lib\\site-packages\\pandas\\core\\reshape\\merge.py\u001B[0m in \u001B[0;36mget_result\u001B[1;34m(self)\u001B[0m\n\u001B[0;32m    682\u001B[0m             \u001B[0mself\u001B[0m\u001B[1;33m.\u001B[0m\u001B[0mleft\u001B[0m\u001B[1;33m,\u001B[0m \u001B[0mself\u001B[0m\u001B[1;33m.\u001B[0m\u001B[0mright\u001B[0m \u001B[1;33m=\u001B[0m \u001B[0mself\u001B[0m\u001B[1;33m.\u001B[0m\u001B[0m_indicator_pre_merge\u001B[0m\u001B[1;33m(\u001B[0m\u001B[0mself\u001B[0m\u001B[1;33m.\u001B[0m\u001B[0mleft\u001B[0m\u001B[1;33m,\u001B[0m \u001B[0mself\u001B[0m\u001B[1;33m.\u001B[0m\u001B[0mright\u001B[0m\u001B[1;33m)\u001B[0m\u001B[1;33m\u001B[0m\u001B[1;33m\u001B[0m\u001B[0m\n\u001B[0;32m    683\u001B[0m \u001B[1;33m\u001B[0m\u001B[0m\n\u001B[1;32m--> 684\u001B[1;33m         \u001B[0mjoin_index\u001B[0m\u001B[1;33m,\u001B[0m \u001B[0mleft_indexer\u001B[0m\u001B[1;33m,\u001B[0m \u001B[0mright_indexer\u001B[0m \u001B[1;33m=\u001B[0m \u001B[0mself\u001B[0m\u001B[1;33m.\u001B[0m\u001B[0m_get_join_info\u001B[0m\u001B[1;33m(\u001B[0m\u001B[1;33m)\u001B[0m\u001B[1;33m\u001B[0m\u001B[1;33m\u001B[0m\u001B[0m\n\u001B[0m\u001B[0;32m    685\u001B[0m \u001B[1;33m\u001B[0m\u001B[0m\n\u001B[0;32m    686\u001B[0m         llabels, rlabels = _items_overlap_with_suffix(\n",
      "\u001B[1;32m~\\Anaconda3\\envs\\et\\lib\\site-packages\\pandas\\core\\reshape\\merge.py\u001B[0m in \u001B[0;36m_get_join_info\u001B[1;34m(self)\u001B[0m\n\u001B[0;32m    898\u001B[0m             )\n\u001B[0;32m    899\u001B[0m         \u001B[1;32melif\u001B[0m \u001B[0mself\u001B[0m\u001B[1;33m.\u001B[0m\u001B[0mright_index\u001B[0m \u001B[1;32mand\u001B[0m \u001B[0mself\u001B[0m\u001B[1;33m.\u001B[0m\u001B[0mhow\u001B[0m \u001B[1;33m==\u001B[0m \u001B[1;34m\"left\"\u001B[0m\u001B[1;33m:\u001B[0m\u001B[1;33m\u001B[0m\u001B[1;33m\u001B[0m\u001B[0m\n\u001B[1;32m--> 900\u001B[1;33m             join_index, left_indexer, right_indexer = _left_join_on_index(\n\u001B[0m\u001B[0;32m    901\u001B[0m                 \u001B[0mleft_ax\u001B[0m\u001B[1;33m,\u001B[0m \u001B[0mright_ax\u001B[0m\u001B[1;33m,\u001B[0m \u001B[0mself\u001B[0m\u001B[1;33m.\u001B[0m\u001B[0mleft_join_keys\u001B[0m\u001B[1;33m,\u001B[0m \u001B[0msort\u001B[0m\u001B[1;33m=\u001B[0m\u001B[0mself\u001B[0m\u001B[1;33m.\u001B[0m\u001B[0msort\u001B[0m\u001B[1;33m\u001B[0m\u001B[1;33m\u001B[0m\u001B[0m\n\u001B[0;32m    902\u001B[0m             )\n",
      "\u001B[1;32m~\\Anaconda3\\envs\\et\\lib\\site-packages\\pandas\\core\\reshape\\merge.py\u001B[0m in \u001B[0;36m_left_join_on_index\u001B[1;34m(left_ax, right_ax, join_keys, sort)\u001B[0m\n\u001B[0;32m   1938\u001B[0m             )\n\u001B[0;32m   1939\u001B[0m \u001B[1;33m\u001B[0m\u001B[0m\n\u001B[1;32m-> 1940\u001B[1;33m         left_indexer, right_indexer = _get_multiindex_indexer(\n\u001B[0m\u001B[0;32m   1941\u001B[0m             \u001B[0mjoin_keys\u001B[0m\u001B[1;33m,\u001B[0m \u001B[0mright_ax\u001B[0m\u001B[1;33m,\u001B[0m \u001B[0msort\u001B[0m\u001B[1;33m=\u001B[0m\u001B[0msort\u001B[0m\u001B[1;33m\u001B[0m\u001B[1;33m\u001B[0m\u001B[0m\n\u001B[0;32m   1942\u001B[0m         )\n",
      "\u001B[1;32m~\\Anaconda3\\envs\\et\\lib\\site-packages\\pandas\\core\\reshape\\merge.py\u001B[0m in \u001B[0;36m_get_multiindex_indexer\u001B[1;34m(join_keys, index, sort)\u001B[0m\n\u001B[0;32m   1912\u001B[0m \u001B[1;33m\u001B[0m\u001B[0m\n\u001B[0;32m   1913\u001B[0m     \u001B[1;31m# factorize keys to a dense i8 space\u001B[0m\u001B[1;33m\u001B[0m\u001B[1;33m\u001B[0m\u001B[1;33m\u001B[0m\u001B[0m\n\u001B[1;32m-> 1914\u001B[1;33m     \u001B[0mlkey\u001B[0m\u001B[1;33m,\u001B[0m \u001B[0mrkey\u001B[0m\u001B[1;33m,\u001B[0m \u001B[0mcount\u001B[0m \u001B[1;33m=\u001B[0m \u001B[0m_factorize_keys\u001B[0m\u001B[1;33m(\u001B[0m\u001B[0mlkey\u001B[0m\u001B[1;33m,\u001B[0m \u001B[0mrkey\u001B[0m\u001B[1;33m,\u001B[0m \u001B[0msort\u001B[0m\u001B[1;33m=\u001B[0m\u001B[0msort\u001B[0m\u001B[1;33m)\u001B[0m\u001B[1;33m\u001B[0m\u001B[1;33m\u001B[0m\u001B[0m\n\u001B[0m\u001B[0;32m   1915\u001B[0m \u001B[1;33m\u001B[0m\u001B[0m\n\u001B[0;32m   1916\u001B[0m     \u001B[1;32mreturn\u001B[0m \u001B[0mlibjoin\u001B[0m\u001B[1;33m.\u001B[0m\u001B[0mleft_outer_join\u001B[0m\u001B[1;33m(\u001B[0m\u001B[0mlkey\u001B[0m\u001B[1;33m,\u001B[0m \u001B[0mrkey\u001B[0m\u001B[1;33m,\u001B[0m \u001B[0mcount\u001B[0m\u001B[1;33m,\u001B[0m \u001B[0msort\u001B[0m\u001B[1;33m=\u001B[0m\u001B[0msort\u001B[0m\u001B[1;33m)\u001B[0m\u001B[1;33m\u001B[0m\u001B[1;33m\u001B[0m\u001B[0m\n",
      "\u001B[1;32m~\\Anaconda3\\envs\\et\\lib\\site-packages\\pandas\\core\\reshape\\merge.py\u001B[0m in \u001B[0;36m_factorize_keys\u001B[1;34m(lk, rk, sort, how)\u001B[0m\n\u001B[0;32m   2056\u001B[0m \u001B[1;33m\u001B[0m\u001B[0m\n\u001B[0;32m   2057\u001B[0m     \u001B[0mllab\u001B[0m \u001B[1;33m=\u001B[0m \u001B[0mrizer\u001B[0m\u001B[1;33m.\u001B[0m\u001B[0mfactorize\u001B[0m\u001B[1;33m(\u001B[0m\u001B[0mlk\u001B[0m\u001B[1;33m)\u001B[0m\u001B[1;33m\u001B[0m\u001B[1;33m\u001B[0m\u001B[0m\n\u001B[1;32m-> 2058\u001B[1;33m     \u001B[0mrlab\u001B[0m \u001B[1;33m=\u001B[0m \u001B[0mrizer\u001B[0m\u001B[1;33m.\u001B[0m\u001B[0mfactorize\u001B[0m\u001B[1;33m(\u001B[0m\u001B[0mrk\u001B[0m\u001B[1;33m)\u001B[0m\u001B[1;33m\u001B[0m\u001B[1;33m\u001B[0m\u001B[0m\n\u001B[0m\u001B[0;32m   2059\u001B[0m \u001B[1;33m\u001B[0m\u001B[0m\n\u001B[0;32m   2060\u001B[0m     \u001B[0mcount\u001B[0m \u001B[1;33m=\u001B[0m \u001B[0mrizer\u001B[0m\u001B[1;33m.\u001B[0m\u001B[0mget_count\u001B[0m\u001B[1;33m(\u001B[0m\u001B[1;33m)\u001B[0m\u001B[1;33m\u001B[0m\u001B[1;33m\u001B[0m\u001B[0m\n",
      "\u001B[1;32mpandas\\_libs\\hashtable.pyx\u001B[0m in \u001B[0;36mpandas._libs.hashtable.Int64Factorizer.factorize\u001B[1;34m()\u001B[0m\n",
      "\u001B[1;32mpandas\\_libs\\hashtable_class_helper.pxi\u001B[0m in \u001B[0;36mpandas._libs.hashtable.Int64HashTable.get_labels\u001B[1;34m()\u001B[0m\n",
      "\u001B[1;32mpandas\\_libs\\hashtable_class_helper.pxi\u001B[0m in \u001B[0;36mpandas._libs.hashtable.Int64HashTable._unique\u001B[1;34m()\u001B[0m\n",
      "\u001B[1;32m~\\Anaconda3\\envs\\et\\lib\\site-packages\\numpy\\core\\_asarray.py\u001B[0m in \u001B[0;36masarray\u001B[1;34m(a, dtype, order)\u001B[0m\n\u001B[0;32m     12\u001B[0m ]\n\u001B[0;32m     13\u001B[0m \u001B[1;33m\u001B[0m\u001B[0m\n\u001B[1;32m---> 14\u001B[1;33m \u001B[1;33m@\u001B[0m\u001B[0mset_module\u001B[0m\u001B[1;33m(\u001B[0m\u001B[1;34m'numpy'\u001B[0m\u001B[1;33m)\u001B[0m\u001B[1;33m\u001B[0m\u001B[1;33m\u001B[0m\u001B[0m\n\u001B[0m\u001B[0;32m     15\u001B[0m \u001B[1;32mdef\u001B[0m \u001B[0masarray\u001B[0m\u001B[1;33m(\u001B[0m\u001B[0ma\u001B[0m\u001B[1;33m,\u001B[0m \u001B[0mdtype\u001B[0m\u001B[1;33m=\u001B[0m\u001B[1;32mNone\u001B[0m\u001B[1;33m,\u001B[0m \u001B[0morder\u001B[0m\u001B[1;33m=\u001B[0m\u001B[1;32mNone\u001B[0m\u001B[1;33m)\u001B[0m\u001B[1;33m:\u001B[0m\u001B[1;33m\u001B[0m\u001B[1;33m\u001B[0m\u001B[0m\n\u001B[0;32m     16\u001B[0m     \"\"\"Convert the input to an array.\n",
      "\u001B[1;31mKeyboardInterrupt\u001B[0m: "
     ]
    }
   ],
   "source": [
    "# configure the working directory to the project root path\n",
    "with open(\"../../config.yaml\", \"r\", encoding=\"utf8\") as f:\n",
    "    conf = yaml.load(f, Loader=yaml.FullLoader)\n",
    "os.chdir(conf[\"project_path\"])\n",
    "display.configure_pandas()\n",
    "\n",
    "od = pd.read_parquet(conf['od']['raw1706_pqt'])\n",
    "od = od_utils.filter_in_bbox(od)\n",
    "od = generate_cube_index(od, m=100, n=200)\n",
    "od_pairs_demand = pd.read_csv(conf['mobility']['transition']['utility_xgboost']['p2d']['result'])\n",
    "\n",
    "percent_list = []\n",
    "kl_list = []\n",
    "for percentage_int in range(1, 100, 1):\n",
    "    percentage = percentage_int / 100\n",
    "    od_sample = od.sample(frac=percentage)\n",
    "    demand = od_sample.groupby(['original_cube', 'destination_cube']).size().rename('sample')\n",
    "    all_and_sample = pd.merge(od_pairs_demand, demand,\n",
    "                              how='left',\n",
    "                              left_on=['original_cube', 'destination_cube'], right_index=True).fillna(0.0001)\n",
    "    kl_sample = all_and_sample.groupby(\"original_cube\").apply(\n",
    "        lambda x: kl(normalize(x[\"demand_17_et\"].to_numpy().reshape(1, -1), norm='l1'),\n",
    "                     normalize(x[\"sample\"].to_numpy().reshape(1, -1), norm='l1'))\n",
    "    )\n",
    "    print(percentage, kl_sample.mean())\n",
    "    percent_list.append(percentage)\n",
    "    kl_list.append(kl_sample.mean())"
   ],
   "metadata": {
    "collapsed": false,
    "pycharm": {
     "name": "#%%\n"
    }
   }
  },
  {
   "cell_type": "code",
   "execution_count": null,
   "outputs": [],
   "source": [
    "font = {'family': 'Palatino Linotype',\n",
    "        'weight': 'normal',\n",
    "        'size': 15,\n",
    "        }\n",
    "\n",
    "import matplotlib.pyplot as plt\n",
    "from brokenaxes import brokenaxes\n",
    "import numpy as np\n",
    "fig = plt.figure(figsize=(5.5, 4), dpi=600)\n",
    "ax=brokenaxes(xlims=((-0.01,1.01),), ylims=((-0.05,3),(20.5, 21)), hspace=0.15, left = 0.175, bottom = 0.21)#hspace指两个断点之间的距离\n",
    "#https://github.com/bendichter/brokenaxes/issues/20\n",
    "ax.plot(percent_list, kl_list, label='Sampled data of taxis at 2017')\n",
    "ax.plot(664/10000, 20.83, '.', label='Data of only EV taxis at 2014')\n",
    "ax.plot(0.99, 0.21, '.', label='Data of taxis at 2014')\n",
    "ax.legend(prop=font)\n",
    "ax.set_xlabel('# of taxis / # of taxis at 2016', labelpad = 0, size=16, family='Palatino Linotype')\n",
    "ax.set_ylabel('KL-Divergence', labelpad = 0, size=16, family='Palatino Linotype')\n",
    "ax.tick_params(labelsize=12, )\n",
    "# fig.tight_layout()\n",
    "fig.show()\n",
    "fig.savefig('kldiv_comparison.pdf')"
   ],
   "metadata": {
    "collapsed": false,
    "pycharm": {
     "name": "#%%\n"
    }
   }
  }
 ],
 "metadata": {
  "kernelspec": {
   "display_name": "Python 3",
   "language": "python",
   "name": "python3"
  },
  "language_info": {
   "codemirror_mode": {
    "name": "ipython",
    "version": 2
   },
   "file_extension": ".py",
   "mimetype": "text/x-python",
   "name": "python",
   "nbconvert_exporter": "python",
   "pygments_lexer": "ipython2",
   "version": "2.7.6"
  }
 },
 "nbformat": 4,
 "nbformat_minor": 0
}