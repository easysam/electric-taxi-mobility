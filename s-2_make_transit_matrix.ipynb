{
 "cells": [
  {
   "cell_type": "code",
   "execution_count": 1,
   "metadata": {
    "collapsed": true
   },
   "outputs": [
    {
     "name": "stderr",
     "output_type": "stream",
     "text": [
      "C:\\Users\\hkrep\\anaconda3\\envs\\et\\lib\\site-packages\\tqdm\\std.py:668: FutureWarning: The Panel class is removed from pandas. Accessing it from the top-level namespace will also be removed in the next version\n",
      "  from pandas import Panel\n"
     ]
    }
   ],
   "source": [
    "import pickle\n",
    "import torch\n",
    "import logging\n",
    "import utils.data_loader as data_loader\n",
    "import utils.display as display\n",
    "import pandas as pd\n",
    "import numpy as np\n",
    "from datetime import datetime, timedelta\n",
    "from scipy.spatial.distance import cdist\n",
    "from tqdm.notebook import tqdm\n",
    "from sklearn.metrics.pairwise import haversine_distances\n",
    "import charging_behavior.where_to_charge.NN_utility_model as NN_utility_model\n",
    "\n",
    "display.configure_pandas()\n",
    "display.configure_logging()\n",
    "\n",
    "tqdm.pandas()"
   ]
  },
  {
   "cell_type": "code",
   "execution_count": 2,
   "outputs": [
    {
     "name": "stderr",
     "output_type": "stream",
     "text": [
      "22-Jul-20 16:41:43 - Loadingdata/rest/rest_events.csv\n",
      "22-Jul-20 16:41:43 - Loadingdata/od/od_with_distance_between_before.csv\n",
      "22-Jul-20 16:41:44 - Loading data/od/full_od_with_hotpots_v4.csv\n",
      "22-Jul-20 16:41:45 - Loading data/ce/v5_30min.csv\n"
     ]
    }
   ],
   "source": [
    "# Rest events\n",
    "rest_events = data_loader.load_rest()\n",
    "\n",
    "# OD data\n",
    "od_distance = data_loader.load_od(scale='full', with_distance=True)\n",
    "od_with_hs = data_loader.load_od(with_hotpots=True, version='v4')\n",
    "od_with_hs = od_with_hs[['Licence', 'begin_time', 'end_time', 'in_bbox', 'load_label', 'drop_label']]\n",
    "od_with_hs = od_with_hs.merge(od_distance[['Licence', 'begin_time', 'distance_before_od', 'od_distance']])\n",
    "\n",
    "# Charging events\n",
    "ce = data_loader.load_ce(version='v5_30min')\n",
    "common = data_loader.load_trajectory_od_intersection()\n",
    "ce = ce.loc[ce['licence'].isin(common)].reset_index(drop=True)"
   ],
   "metadata": {
    "collapsed": false,
    "pycharm": {
     "name": "#%%\n"
    }
   }
  },
  {
   "cell_type": "code",
   "execution_count": 3,
   "outputs": [],
   "source": [
    "p2d_distance = od_with_hs.groupby(['load_label', 'drop_label'])['od_distance'].mean()"
   ],
   "metadata": {
    "collapsed": false,
    "pycharm": {
     "name": "#%%\n"
    }
   }
  },
  {
   "cell_type": "code",
   "execution_count": 4,
   "outputs": [
    {
     "data": {
      "text/plain": "HBox(children=(FloatProgress(value=0.0, max=643.0), HTML(value='')))",
      "application/vnd.jupyter.widget-view+json": {
       "version_major": 2,
       "version_minor": 0,
       "model_id": "b4214d7a3a6f4f86837919a1e1efe5cd"
      }
     },
     "metadata": {},
     "output_type": "display_data"
    },
    {
     "name": "stdout",
     "output_type": "stream",
     "text": [
      "\n",
      "\n"
     ]
    },
    {
     "data": {
      "text/plain": "HBox(children=(FloatProgress(value=0.0, max=643.0), HTML(value='')))",
      "application/vnd.jupyter.widget-view+json": {
       "version_major": 2,
       "version_minor": 0,
       "model_id": "13ff94d2f0df43a694a6c2096cca40aa"
      }
     },
     "metadata": {},
     "output_type": "display_data"
    }
   ],
   "source": [
    "# 给od数据添加信息：是否在一次充电或休息事件之后\n",
    "# First mark whether it is after a charging event\n",
    "def add_whether_after_ce(license_ce, od_all=od_with_hs):\n",
    "    begin_index = od_all['Licence'].searchsorted(license_ce.name, side='left')\n",
    "    end_index = od_all['Licence'].searchsorted(license_ce.name, side='right')\n",
    "    license_od = od_all.iloc[begin_index: end_index]\n",
    "    od_count = len(license_od.index)\n",
    "    for _, row in license_ce.iterrows():\n",
    "        od_index = license_od['begin_time'].searchsorted(row['start_charging'])\n",
    "        if od_index == od_count:\n",
    "            break\n",
    "        else:\n",
    "            license_od.at[license_od.index[od_index], 'after_ce'] = True\n",
    "    return license_od\n",
    "\n",
    "od_with_hs['after_ce'] = False\n",
    "od_with_hs = ce.groupby('licence').progress_apply(add_whether_after_ce, od_all=od_with_hs).reset_index(drop=True)\n",
    "\n",
    "# Second mark whether it is after a rest event\n",
    "def add_whether_after_rest(license_od, all_rests=None):\n",
    "    begin_index = all_rests['license'].searchsorted(license_od.name, side='left')\n",
    "    end_index = all_rests['license'].searchsorted(license_od.name, side='right')\n",
    "    license_rests = all_rests.iloc[begin_index: end_index]\n",
    "    od_count = len(license_od.index)\n",
    "    for _, row in license_rests.iterrows():\n",
    "        od_index = license_od['begin_time'].searchsorted(row['start_time'])\n",
    "        if od_index == od_count:\n",
    "            break\n",
    "        else:\n",
    "            license_od.at[license_od.index[od_index], 'after_rest'] = True\n",
    "    return license_od\n",
    "\n",
    "\n",
    "od_with_hs['after_rest'] = False\n",
    "od_with_hs = od_with_hs.groupby('Licence').progress_apply(add_whether_after_rest, all_rests=rest_events)"
   ],
   "metadata": {
    "collapsed": false,
    "pycharm": {
     "name": "#%%\n"
    }
   }
  },
  {
   "cell_type": "code",
   "execution_count": 5,
   "outputs": [],
   "source": [
    "od_with_hs['last_drop_label'] = od_with_hs['drop_label'].shift()\n",
    "od_with_hs.loc[od_with_hs['Licence'] != od_with_hs['Licence'].shift(), 'last_drop_label'] = None\n",
    "\n",
    "df_to_count_distance = pd.merge(od_distance[['Licence', 'begin_time', 'distance_before_od', 'od_distance']],\n",
    "                                od_with_hs, how='inner')\n",
    "\n",
    "d2p_distance = df_to_count_distance.loc[~(od_with_hs['after_ce'] | od_with_hs['after_rest'])].groupby(\n",
    "    ['last_drop_label', 'load_label'])['distance_before_od'].mean()"
   ],
   "metadata": {
    "collapsed": false,
    "pycharm": {
     "name": "#%%\n"
    }
   }
  },
  {
   "cell_type": "code",
   "execution_count": 6,
   "outputs": [
    {
     "data": {
      "text/plain": "HBox(children=(FloatProgress(value=0.0, max=24.0), HTML(value='')))",
      "application/vnd.jupyter.widget-view+json": {
       "version_major": 2,
       "version_minor": 0,
       "model_id": "81d9d5ca9d514d6e9b7b6136eafd1c66"
      }
     },
     "metadata": {},
     "output_type": "display_data"
    },
    {
     "name": "stdout",
     "output_type": "stream",
     "text": [
      "\n"
     ]
    }
   ],
   "source": [
    "# 算出发分布\n",
    "departure_distributions = []\n",
    "for i in tqdm(range(24)):\n",
    "    departure_hs = od_with_hs.loc[(od_with_hs['begin_time'].dt.hour == i)\n",
    "                                  & od_with_hs['after_rest']\n",
    "                                  & (-1 != od_with_hs['load_label']), 'load_label'].value_counts()\n",
    "    departure_hs = departure_hs / departure_hs.sum()\n",
    "    departure_distributions.append(departure_hs)\n",
    "\n"
   ],
   "metadata": {
    "collapsed": false,
    "pycharm": {
     "name": "#%%\n"
    }
   }
  },
  {
   "cell_type": "code",
   "execution_count": 9,
   "outputs": [],
   "source": [
    "p2d_distance.to_csv('generated_data/generation_input/p2d_distance.csv')\n",
    "d2p_distance.to_csv('generated_data/generation_input/d2p_distance.csv')\n",
    "with open('generated_data/generation_input/departure_distributions.pickle', mode='wb') as f:\n",
    "    pickle.dump(departure_distributions, f)"
   ],
   "metadata": {
    "collapsed": false,
    "pycharm": {
     "name": "#%%\n"
    }
   }
  },
  {
   "cell_type": "code",
   "execution_count": 11,
   "outputs": [
    {
     "data": {
      "text/plain": "                       od_distance\nload_label drop_label             \n-1         -1             8.998971\n            0            19.615518\n            1            36.195396\n            2            24.861204\n            3            35.812621\n...                            ...\n 540        168          20.941709\n            172          37.263293\n            174          10.131132\n            194          24.765681\n            199          13.421512\n\n[26406 rows x 1 columns]",
      "text/html": "<div>\n<style scoped>\n    .dataframe tbody tr th:only-of-type {\n        vertical-align: middle;\n    }\n\n    .dataframe tbody tr th {\n        vertical-align: top;\n    }\n\n    .dataframe thead th {\n        text-align: right;\n    }\n</style>\n<table border=\"1\" class=\"dataframe\">\n  <thead>\n    <tr style=\"text-align: right;\">\n      <th></th>\n      <th></th>\n      <th>od_distance</th>\n    </tr>\n    <tr>\n      <th>load_label</th>\n      <th>drop_label</th>\n      <th></th>\n    </tr>\n  </thead>\n  <tbody>\n    <tr>\n      <th rowspan=\"5\" valign=\"top\">-1</th>\n      <th>-1</th>\n      <td>8.998971</td>\n    </tr>\n    <tr>\n      <th>0</th>\n      <td>19.615518</td>\n    </tr>\n    <tr>\n      <th>1</th>\n      <td>36.195396</td>\n    </tr>\n    <tr>\n      <th>2</th>\n      <td>24.861204</td>\n    </tr>\n    <tr>\n      <th>3</th>\n      <td>35.812621</td>\n    </tr>\n    <tr>\n      <th>...</th>\n      <th>...</th>\n      <td>...</td>\n    </tr>\n    <tr>\n      <th rowspan=\"5\" valign=\"top\">540</th>\n      <th>168</th>\n      <td>20.941709</td>\n    </tr>\n    <tr>\n      <th>172</th>\n      <td>37.263293</td>\n    </tr>\n    <tr>\n      <th>174</th>\n      <td>10.131132</td>\n    </tr>\n    <tr>\n      <th>194</th>\n      <td>24.765681</td>\n    </tr>\n    <tr>\n      <th>199</th>\n      <td>13.421512</td>\n    </tr>\n  </tbody>\n</table>\n<p>26406 rows × 1 columns</p>\n</div>"
     },
     "execution_count": 11,
     "metadata": {},
     "output_type": "execute_result"
    }
   ],
   "source": [
    "pd.read_csv('generated_data/generation_input/p2d_distance.csv', index_col=[0, 1])\n"
   ],
   "metadata": {
    "collapsed": false,
    "pycharm": {
     "name": "#%%\n"
    }
   }
  }
 ],
 "metadata": {
  "kernelspec": {
   "name": "et",
   "language": "python",
   "display_name": "Python (et)"
  },
  "language_info": {
   "codemirror_mode": {
    "name": "ipython",
    "version": 2
   },
   "file_extension": ".py",
   "mimetype": "text/x-python",
   "name": "python",
   "nbconvert_exporter": "python",
   "pygments_lexer": "ipython2",
   "version": "2.7.6"
  }
 },
 "nbformat": 4,
 "nbformat_minor": 0
}